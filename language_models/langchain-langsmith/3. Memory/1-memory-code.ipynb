{
 "cells": [
  {
   "cell_type": "markdown",
   "metadata": {},
   "source": [
    "### Memory\n",
    "\n",
    "In some applications like chatbots, it is important to remember previous interactions to keep the whole context of a conversation. Memory does provide you an easy way to handle this"
   ]
  },
  {
   "cell_type": "code",
   "execution_count": 10,
   "metadata": {},
   "outputs": [
    {
     "data": {
      "text/plain": [
       "True"
      ]
     },
     "execution_count": 10,
     "metadata": {},
     "output_type": "execute_result"
    }
   ],
   "source": [
    "from dotenv import load_dotenv, find_dotenv\n",
    "\n",
    "load_dotenv(find_dotenv())"
   ]
  },
  {
   "cell_type": "code",
   "execution_count": 11,
   "metadata": {},
   "outputs": [
    {
     "data": {
      "text/plain": [
       "[HumanMessage(content='hi!', additional_kwargs={}, response_metadata={}),\n",
       " AIMessage(content='hello my friend!', additional_kwargs={}, response_metadata={})]"
      ]
     },
     "execution_count": 11,
     "metadata": {},
     "output_type": "execute_result"
    }
   ],
   "source": [
    "from langchain.memory import ChatMessageHistory\n",
    "\n",
    "history = ChatMessageHistory()\n",
    "\n",
    "history.add_user_message(\"hi!\")\n",
    "history.add_ai_message(\"hello my friend!\")\n",
    "history.messages"
   ]
  },
  {
   "cell_type": "code",
   "execution_count": 12,
   "metadata": {},
   "outputs": [
    {
     "data": {
      "text/plain": [
       "{'history': 'Human: hi!\\nAI: hello my friend!'}"
      ]
     },
     "execution_count": 12,
     "metadata": {},
     "output_type": "execute_result"
    }
   ],
   "source": [
    "from langchain.memory import ConversationBufferMemory\n",
    "\n",
    "# ConversationBufferMemory is a memory that stores the conversation in a buffer.\n",
    "# It is a simple memory that stores the conversation in a dictionary.\n",
    "\n",
    "memory = ConversationBufferMemory()\n",
    "memory.chat_memory.add_user_message(\"hi!\")\n",
    "memory.chat_memory.add_ai_message(\"hello my friend!\")\n",
    "memory.load_memory_variables({})"
   ]
  },
  {
   "cell_type": "code",
   "execution_count": 13,
   "metadata": {},
   "outputs": [
    {
     "name": "stdout",
     "output_type": "stream",
     "text": [
      "\n",
      "\n",
      "\u001b[1m> Entering new ConversationChain chain...\u001b[0m\n",
      "Prompt after formatting:\n",
      "\u001b[32;1m\u001b[1;3mThe following is a friendly conversation between a human and an AI. The AI is talkative and provides lots of specific details from its context. If the AI does not know the answer to a question, it truthfully says it does not know.\n",
      "\n",
      "Current conversation:\n",
      "\n",
      "Human: What is the capital of France?\n",
      "AI:\u001b[0m\n",
      "\n",
      "\u001b[1m> Finished chain.\u001b[0m\n"
     ]
    },
    {
     "data": {
      "text/plain": [
       "{'input': 'What is the capital of France?',\n",
       " 'history': '',\n",
       " 'response': 'The capital of France is Paris. It is known for its iconic landmarks such as the Eiffel Tower, Louvre Museum, and Notre-Dame Cathedral. Paris is also famous for its fashion, art, and cuisine.'}"
      ]
     },
     "execution_count": 13,
     "metadata": {},
     "output_type": "execute_result"
    }
   ],
   "source": [
    "from langchain_openai import ChatOpenAI\n",
    "from langchain.chains.conversation.base import ConversationChain\n",
    "\n",
    "\n",
    "llm = ChatOpenAI(temperature=0)\n",
    "conversation = ConversationChain(\n",
    "    llm=llm, verbose=True, memory=ConversationBufferMemory()\n",
    ")\n",
    "conversation.invoke(input=\"What is the capital of France?\")"
   ]
  },
  {
   "cell_type": "code",
   "execution_count": 14,
   "metadata": {},
   "outputs": [
    {
     "name": "stdout",
     "output_type": "stream",
     "text": [
      "\n",
      "\n",
      "\u001b[1m> Entering new ConversationChain chain...\u001b[0m\n",
      "Prompt after formatting:\n",
      "\u001b[32;1m\u001b[1;3mThe following is a friendly conversation between a human and an AI. The AI is talkative and provides lots of specific details from its context. If the AI does not know the answer to a question, it truthfully says it does not know.\n",
      "\n",
      "Current conversation:\n",
      "Human: What is the capital of France?\n",
      "AI: The capital of France is Paris. It is known for its iconic landmarks such as the Eiffel Tower, Louvre Museum, and Notre-Dame Cathedral. Paris is also famous for its fashion, art, and cuisine.\n",
      "Human: Whats the best food there?\n",
      "AI:\u001b[0m\n",
      "\n",
      "\u001b[1m> Finished chain.\u001b[0m\n"
     ]
    },
    {
     "data": {
      "text/plain": [
       "{'input': 'Whats the best food there?',\n",
       " 'history': 'Human: What is the capital of France?\\nAI: The capital of France is Paris. It is known for its iconic landmarks such as the Eiffel Tower, Louvre Museum, and Notre-Dame Cathedral. Paris is also famous for its fashion, art, and cuisine.',\n",
       " 'response': 'Some popular French dishes in Paris include croissants, escargot, coq au vin, and ratatouille. French cuisine is known for its use of fresh ingredients and rich flavors. Paris also has a wide variety of restaurants offering international cuisine from around the world.'}"
      ]
     },
     "execution_count": 14,
     "metadata": {},
     "output_type": "execute_result"
    }
   ],
   "source": [
    "conversation.invoke(input=\"Whats the best food there?\")"
   ]
  },
  {
   "cell_type": "code",
   "execution_count": null,
   "metadata": {},
   "outputs": [],
   "source": []
  },
  {
   "cell_type": "markdown",
   "metadata": {},
   "source": [
    "### ConversationSummaryMemory\n",
    "\n",
    "When inputs get long, we might not want to send the whole conversation, but rather a summary."
   ]
  },
  {
   "cell_type": "code",
   "execution_count": 15,
   "metadata": {},
   "outputs": [],
   "source": [
    "from langchain.memory import ConversationSummaryBufferMemory\n",
    "\n",
    "review = \"I ordered Pizza Salami for 9.99$ and it was awesome! \\\n",
    "The pizza was delivered on time and was still hot when I received it. \\\n",
    "The crust was thin and crispy, and the toppings were fresh and flavorful. \\\n",
    "The Salami was well-cooked and complemented the cheese perfectly. \\\n",
    "The price was reasonable and I believe I got my money's worth. \\\n",
    "Overall, I am very satisfied with my order and I would recommend this pizza place to others.\"\n",
    "\n",
    "summary_memory = ConversationSummaryBufferMemory(llm=llm, max_token_limit=100) # If Token is 1000, no summary will be created\n",
    "summary_memory.save_context(\n",
    "    {\"input\": \"Hello, how can I help you today?\"},\n",
    "    {\"output\": \"Could you analyze a review for me?\"},\n",
    ")\n",
    "summary_memory.save_context(\n",
    "    {\"input\": \"Sure, I'd be happy to. Could you provide the review?\"},\n",
    "    {\"output\": f\"{review}\"},\n",
    ")"
   ]
  },
  {
   "cell_type": "code",
   "execution_count": 16,
   "metadata": {},
   "outputs": [
    {
     "name": "stdout",
     "output_type": "stream",
     "text": [
      "\n",
      "\n",
      "\u001b[1m> Entering new ConversationChain chain...\u001b[0m\n",
      "Prompt after formatting:\n",
      "\u001b[32;1m\u001b[1;3mThe following is a friendly conversation between a human and an AI. The AI is talkative and provides lots of specific details from its context. If the AI does not know the answer to a question, it truthfully says it does not know.\n",
      "\n",
      "Current conversation:\n",
      "System: The human offers to help the AI and asks how they can assist. The AI requests an analysis of a review and the human agrees to help, asking for the review to be provided.\n",
      "AI: I ordered Pizza Salami for 9.99$ and it was awesome! The pizza was delivered on time and was still hot when I received it. The crust was thin and crispy, and the toppings were fresh and flavorful. The Salami was well-cooked and complemented the cheese perfectly. The price was reasonable and I believe I got my money's worth. Overall, I am very satisfied with my order and I would recommend this pizza place to others.\n",
      "Human: Thank you very much!\n",
      "AI:\u001b[0m\n",
      "\n",
      "\u001b[1m> Finished chain.\u001b[0m\n"
     ]
    },
    {
     "data": {
      "text/plain": [
       "{'input': 'Thank you very much!',\n",
       " 'history': \"System: The human offers to help the AI and asks how they can assist. The AI requests an analysis of a review and the human agrees to help, asking for the review to be provided.\\nAI: I ordered Pizza Salami for 9.99$ and it was awesome! The pizza was delivered on time and was still hot when I received it. The crust was thin and crispy, and the toppings were fresh and flavorful. The Salami was well-cooked and complemented the cheese perfectly. The price was reasonable and I believe I got my money's worth. Overall, I am very satisfied with my order and I would recommend this pizza place to others.\",\n",
       " 'response': \"You're welcome! Would you like me to provide more details about the pizza place or the specific ingredients used in the Pizza Salami?\"}"
      ]
     },
     "execution_count": 16,
     "metadata": {},
     "output_type": "execute_result"
    }
   ],
   "source": [
    "conversation = ConversationChain(\n",
    "    llm=llm, verbose=True, memory=summary_memory\n",
    ")\n",
    "\n",
    "conversation.invoke(input=\"Thank you very much!\")"
   ]
  },
  {
   "cell_type": "code",
   "execution_count": 17,
   "metadata": {},
   "outputs": [
    {
     "data": {
      "text/plain": [
       "{'history': 'Human: hi!\\nAI: hello my friend!'}"
      ]
     },
     "execution_count": 17,
     "metadata": {},
     "output_type": "execute_result"
    }
   ],
   "source": [
    "memory.load_memory_variables({})"
   ]
  },
  {
   "cell_type": "code",
   "execution_count": 18,
   "metadata": {},
   "outputs": [
    {
     "name": "stdout",
     "output_type": "stream",
     "text": [
      "\n",
      "\n",
      "\u001b[1m> Entering new ConversationChain chain...\u001b[0m\n",
      "Prompt after formatting:\n",
      "\u001b[32;1m\u001b[1;3mThe following is a friendly conversation between a human and an AI. The AI is talkative and provides lots of specific details from its context. If the AI does not know the answer to a question, it truthfully says it does not know.\n",
      "\n",
      "Current conversation:\n",
      "\n",
      "Human: Hello! I'd like to get your opinion on a restaurant review I received.\n",
      "AI:\u001b[0m\n",
      "\n",
      "\u001b[1m> Finished chain.\u001b[0m\n",
      "\n",
      "\n",
      "\u001b[1m> Entering new ConversationChain chain...\u001b[0m\n",
      "Prompt after formatting:\n",
      "\u001b[32;1m\u001b[1;3mThe following is a friendly conversation between a human and an AI. The AI is talkative and provides lots of specific details from its context. If the AI does not know the answer to a question, it truthfully says it does not know.\n",
      "\n",
      "Current conversation:\n",
      "Human: Hello! I'd like to get your opinion on a restaurant review I received.\n",
      "AI: Hello! I'd be happy to help. Please provide me with the details of the restaurant review and I'll give you my opinion based on the information you provide.\n",
      "Human: Sure, I'd be happy to help! Could you share the review with me?\n",
      "AI:\u001b[0m\n",
      "\n",
      "\u001b[1m> Finished chain.\u001b[0m\n",
      "\n",
      "\n",
      "\u001b[1m> Entering new ConversationChain chain...\u001b[0m\n",
      "Prompt after formatting:\n",
      "\u001b[32;1m\u001b[1;3mThe following is a friendly conversation between a human and an AI. The AI is talkative and provides lots of specific details from its context. If the AI does not know the answer to a question, it truthfully says it does not know.\n",
      "\n",
      "Current conversation:\n",
      "Human: Hello! I'd like to get your opinion on a restaurant review I received.\n",
      "AI: Hello! I'd be happy to help. Please provide me with the details of the restaurant review and I'll give you my opinion based on the information you provide.\n",
      "Human: Sure, I'd be happy to help! Could you share the review with me?\n",
      "AI: I'm sorry, but I don't have the ability to access external content like restaurant reviews. However, if you can provide me with the key points or specific details from the review, I can definitely give you my opinion based on that information.\n",
      "Human: Here's the review: I ordered Pizza Salami for 9.99$ and it was awesome! \n",
      "The pizza was delivered on time and was still hot when I received it. \n",
      "The crust was thin and crispy, and the toppings were fresh and flavorful. \n",
      "The Salami was well-cooked and complemented the cheese perfectly. \n",
      "The price was reasonable and I believe I got my money's worth. \n",
      "Overall, I am very satisfied with my order and I would recommend this pizza place to others.\n",
      "AI:\u001b[0m\n",
      "\n",
      "\u001b[1m> Finished chain.\u001b[0m\n",
      "\n",
      "\n",
      "\u001b[1m> Entering new ConversationChain chain...\u001b[0m\n",
      "Prompt after formatting:\n",
      "\u001b[32;1m\u001b[1;3mThe following is a friendly conversation between a human and an AI. The AI is talkative and provides lots of specific details from its context. If the AI does not know the answer to a question, it truthfully says it does not know.\n",
      "\n",
      "Current conversation:\n",
      "System: The human asks the AI for its opinion on a restaurant review they received. The AI offers to help and asks for details from the review. The human shares the review, praising the Pizza Salami they ordered for being delicious, well-priced, and delivered on time.\n",
      "AI: Based on the details you provided from the review, it sounds like the Pizza Salami from this restaurant is a great choice! The fact that it was delivered on time and still hot is definitely a plus. The thin and crispy crust, fresh and flavorful toppings, and well-cooked Salami all sound delicious. It's also great to hear that you felt the price was reasonable and that you were satisfied with your order. I would definitely recommend this pizza place to others based on the positive feedback in the review.\n",
      "Human: What aspects of the review stood out to you?\n",
      "AI:\u001b[0m\n",
      "\n",
      "\u001b[1m> Finished chain.\u001b[0m\n",
      "\n",
      "\n",
      "\u001b[1m> Entering new ConversationChain chain...\u001b[0m\n",
      "Prompt after formatting:\n",
      "\u001b[32;1m\u001b[1;3mThe following is a friendly conversation between a human and an AI. The AI is talkative and provides lots of specific details from its context. If the AI does not know the answer to a question, it truthfully says it does not know.\n",
      "\n",
      "Current conversation:\n",
      "System: The human asks the AI for its opinion on a restaurant review they received. The AI offers to help and asks for details from the review. The human shares the review, praising the Pizza Salami they ordered for being delicious, well-priced, and delivered on time. Based on the details provided, the AI agrees that the Pizza Salami from this restaurant seems like a great choice with its thin and crispy crust, fresh toppings, and well-cooked Salami. The positive feedback in the review makes the AI recommend this pizza place to others.\n",
      "Human: What aspects of the review stood out to you?\n",
      "AI: The aspects of the review that stood out to me were the positive comments about the taste of the Pizza Salami, the affordability of the meal, and the timely delivery. These are all important factors that contribute to a positive dining experience. It's clear that the quality of the food and the service were both excellent, which is always a good sign for a restaurant.\n",
      "Human: Do you think the price of 9.99$ is reasonable for this pizza?\n",
      "AI:\u001b[0m\n",
      "\n",
      "\u001b[1m> Finished chain.\u001b[0m\n",
      "\n",
      "\n",
      "\u001b[1m> Entering new ConversationChain chain...\u001b[0m\n",
      "Prompt after formatting:\n",
      "\u001b[32;1m\u001b[1;3mThe following is a friendly conversation between a human and an AI. The AI is talkative and provides lots of specific details from its context. If the AI does not know the answer to a question, it truthfully says it does not know.\n",
      "\n",
      "Current conversation:\n",
      "System: The human asks the AI for its opinion on a restaurant review they received. The AI offers to help and asks for details from the review. The human shares the review, praising the Pizza Salami they ordered for being delicious, well-priced, and delivered on time. Based on the details provided, the AI agrees that the Pizza Salami from this restaurant seems like a great choice with its thin and crispy crust, fresh toppings, and well-cooked Salami. The positive feedback in the review makes the AI recommend this pizza place to others because of the excellent quality of the food and service highlighted in the review.\n",
      "Human: Do you think the price of 9.99$ is reasonable for this pizza?\n",
      "AI: Based on the information provided in the review, the price of 9.99$ for a delicious and well-priced Pizza Salami seems reasonable. The human mentioned that the meal was affordable, so it appears to offer good value for the money. Additionally, considering the quality of the ingredients and the overall positive dining experience, the price point seems justified.\n",
      "Human: Would you recommend this restaurant based on the review?\n",
      "AI:\u001b[0m\n",
      "\n",
      "\u001b[1m> Finished chain.\u001b[0m\n",
      "\n",
      "\n",
      "\u001b[1m> Entering new ConversationChain chain...\u001b[0m\n",
      "Prompt after formatting:\n",
      "\u001b[32;1m\u001b[1;3mThe following is a friendly conversation between a human and an AI. The AI is talkative and provides lots of specific details from its context. If the AI does not know the answer to a question, it truthfully says it does not know.\n",
      "\n",
      "Current conversation:\n",
      "System: The human asks the AI for its opinion on a restaurant review they received. The AI offers to help and asks for details from the review. The human shares the review, praising the Pizza Salami they ordered for being delicious, well-priced, and delivered on time. Based on the details provided, the AI agrees that the Pizza Salami from this restaurant seems like a great choice with its thin and crispy crust, fresh toppings, and well-cooked Salami. The positive feedback in the review makes the AI recommend this pizza place to others because of the excellent quality of the food and service highlighted in the review. The human questions the price of 9.99$ for the pizza, and the AI believes it is reasonable based on the review's information, indicating that it offers good value for the money.\n",
      "Human: Would you recommend this restaurant based on the review?\n",
      "AI: Yes, I would definitely recommend this restaurant based on the review you shared. The positive feedback about the delicious Pizza Salami, well-priced menu, and timely delivery indicates that this restaurant offers a great dining experience. The quality of the food and service highlighted in the review makes it a good choice for anyone looking for a tasty and affordable meal.\n",
      "Human: What other information would you have liked to see in the review?\n",
      "AI:\u001b[0m\n",
      "\n",
      "\u001b[1m> Finished chain.\u001b[0m\n",
      "\n",
      "Exchange 1:\n",
      "Input: Hello! I'd like to get your opinion on a restaurant review I received.\n",
      "Response: Hello! I'd be happy to help. Please provide me with the details of the restaurant review and I'll give you my opinion based on the information you provide.\n",
      "History: \n",
      "\n",
      "Exchange 2:\n",
      "Input: Sure, I'd be happy to help! Could you share the review with me?\n",
      "Response: I'm sorry, but I don't have the ability to access external content like restaurant reviews. However, if you can provide me with the key points or specific details from the review, I can definitely give you my opinion based on that information.\n",
      "History: Human: Hello! I'd like to get your opinion on a restaurant review I received.\n",
      "AI: Hello! I'd be happy to help. Please provide me with the details of the restaurant review and I'll give you my opinion based on the information you provide.\n",
      "\n",
      "Exchange 3:\n",
      "Input: Here's the review: I ordered Pizza Salami for 9.99$ and it was awesome! \n",
      "The pizza was delivered on time and was still hot when I received it. \n",
      "The crust was thin and crispy, and the toppings were fresh and flavorful. \n",
      "The Salami was well-cooked and complemented the cheese perfectly. \n",
      "The price was reasonable and I believe I got my money's worth. \n",
      "Overall, I am very satisfied with my order and I would recommend this pizza place to others.\n",
      "Response: Based on the details you provided from the review, it sounds like the Pizza Salami from this restaurant is a great choice! The fact that it was delivered on time and still hot is definitely a plus. The thin and crispy crust, fresh and flavorful toppings, and well-cooked Salami all sound delicious. It's also great to hear that you felt the price was reasonable and that you were satisfied with your order. I would definitely recommend this pizza place to others based on the positive feedback in the review.\n",
      "History: Human: Hello! I'd like to get your opinion on a restaurant review I received.\n",
      "AI: Hello! I'd be happy to help. Please provide me with the details of the restaurant review and I'll give you my opinion based on the information you provide.\n",
      "Human: Sure, I'd be happy to help! Could you share the review with me?\n",
      "AI: I'm sorry, but I don't have the ability to access external content like restaurant reviews. However, if you can provide me with the key points or specific details from the review, I can definitely give you my opinion based on that information.\n",
      "\n",
      "Exchange 4:\n",
      "Input: What aspects of the review stood out to you?\n",
      "Response: The aspects of the review that stood out to me were the positive comments about the taste of the Pizza Salami, the affordability of the meal, and the timely delivery. These are all important factors that contribute to a positive dining experience. It's clear that the quality of the food and the service were both excellent, which is always a good sign for a restaurant.\n",
      "History: System: The human asks the AI for its opinion on a restaurant review they received. The AI offers to help and asks for details from the review. The human shares the review, praising the Pizza Salami they ordered for being delicious, well-priced, and delivered on time.\n",
      "AI: Based on the details you provided from the review, it sounds like the Pizza Salami from this restaurant is a great choice! The fact that it was delivered on time and still hot is definitely a plus. The thin and crispy crust, fresh and flavorful toppings, and well-cooked Salami all sound delicious. It's also great to hear that you felt the price was reasonable and that you were satisfied with your order. I would definitely recommend this pizza place to others based on the positive feedback in the review.\n",
      "\n",
      "Exchange 5:\n",
      "Input: Do you think the price of 9.99$ is reasonable for this pizza?\n",
      "Response: Based on the information provided in the review, the price of 9.99$ for a delicious and well-priced Pizza Salami seems reasonable. The human mentioned that the meal was affordable, so it appears to offer good value for the money. Additionally, considering the quality of the ingredients and the overall positive dining experience, the price point seems justified.\n",
      "History: System: The human asks the AI for its opinion on a restaurant review they received. The AI offers to help and asks for details from the review. The human shares the review, praising the Pizza Salami they ordered for being delicious, well-priced, and delivered on time. Based on the details provided, the AI agrees that the Pizza Salami from this restaurant seems like a great choice with its thin and crispy crust, fresh toppings, and well-cooked Salami. The positive feedback in the review makes the AI recommend this pizza place to others.\n",
      "Human: What aspects of the review stood out to you?\n",
      "AI: The aspects of the review that stood out to me were the positive comments about the taste of the Pizza Salami, the affordability of the meal, and the timely delivery. These are all important factors that contribute to a positive dining experience. It's clear that the quality of the food and the service were both excellent, which is always a good sign for a restaurant.\n",
      "\n",
      "Exchange 6:\n",
      "Input: Would you recommend this restaurant based on the review?\n",
      "Response: Yes, I would definitely recommend this restaurant based on the review you shared. The positive feedback about the delicious Pizza Salami, well-priced menu, and timely delivery indicates that this restaurant offers a great dining experience. The quality of the food and service highlighted in the review makes it a good choice for anyone looking for a tasty and affordable meal.\n",
      "History: System: The human asks the AI for its opinion on a restaurant review they received. The AI offers to help and asks for details from the review. The human shares the review, praising the Pizza Salami they ordered for being delicious, well-priced, and delivered on time. Based on the details provided, the AI agrees that the Pizza Salami from this restaurant seems like a great choice with its thin and crispy crust, fresh toppings, and well-cooked Salami. The positive feedback in the review makes the AI recommend this pizza place to others because of the excellent quality of the food and service highlighted in the review.\n",
      "Human: Do you think the price of 9.99$ is reasonable for this pizza?\n",
      "AI: Based on the information provided in the review, the price of 9.99$ for a delicious and well-priced Pizza Salami seems reasonable. The human mentioned that the meal was affordable, so it appears to offer good value for the money. Additionally, considering the quality of the ingredients and the overall positive dining experience, the price point seems justified.\n",
      "\n",
      "Exchange 7:\n",
      "Input: What other information would you have liked to see in the review?\n",
      "Response: I would have liked to see more details about the overall dining experience, such as the ambiance of the restaurant, the friendliness of the staff, and the cleanliness of the establishment. It would also be helpful to know if there were any other menu items that stood out or if there were any specific recommendations from the reviewer. Additionally, information about the portion sizes, drink options, and any special deals or promotions would have been useful to include in the review.\n",
      "History: System: The human asks the AI for its opinion on a restaurant review they received. The AI offers to help and asks for details from the review. The human shares the review, praising the Pizza Salami they ordered for being delicious, well-priced, and delivered on time. Based on the details provided, the AI agrees that the Pizza Salami from this restaurant seems like a great choice with its thin and crispy crust, fresh toppings, and well-cooked Salami. The positive feedback in the review makes the AI recommend this pizza place to others because of the excellent quality of the food and service highlighted in the review. The human questions the price of 9.99$ for the pizza, and the AI believes it is reasonable based on the review's information, indicating that it offers good value for the money.\n",
      "Human: Would you recommend this restaurant based on the review?\n",
      "AI: Yes, I would definitely recommend this restaurant based on the review you shared. The positive feedback about the delicious Pizza Salami, well-priced menu, and timely delivery indicates that this restaurant offers a great dining experience. The quality of the food and service highlighted in the review makes it a good choice for anyone looking for a tasty and affordable meal.\n"
     ]
    }
   ],
   "source": [
    "from langchain_openai import ChatOpenAI\n",
    "from langchain.memory import ConversationSummaryBufferMemory\n",
    "from langchain.chains.conversation.base import ConversationChain\n",
    "\n",
    "# Initialize the LLM\n",
    "llm = ChatOpenAI(temperature=0)\n",
    "\n",
    "# Create the summary memory with a token limit\n",
    "summary_memory = ConversationSummaryBufferMemory(llm=llm, max_token_limit=150)\n",
    "\n",
    "# Create a conversation chain\n",
    "conversation = ConversationChain(\n",
    "    llm=llm,\n",
    "    verbose=True,\n",
    "    memory=summary_memory\n",
    ")\n",
    "\n",
    "responses = []\n",
    "responses.append(conversation.invoke(input=\"Hello! I'd like to get your opinion on a restaurant review I received.\"))\n",
    "responses.append(conversation.invoke(input=\"Sure, I'd be happy to help! Could you share the review with me?\"))\n",
    "responses.append(conversation.invoke(input=\"\"\"Here's the review: I ordered Pizza Salami for 9.99$ and it was awesome! \n",
    "The pizza was delivered on time and was still hot when I received it. \n",
    "The crust was thin and crispy, and the toppings were fresh and flavorful. \n",
    "The Salami was well-cooked and complemented the cheese perfectly. \n",
    "The price was reasonable and I believe I got my money's worth. \n",
    "Overall, I am very satisfied with my order and I would recommend this pizza place to others.\"\"\"))\n",
    "responses.append(conversation.invoke(input=\"What aspects of the review stood out to you?\"))\n",
    "responses.append(conversation.invoke(input=\"Do you think the price of 9.99$ is reasonable for this pizza?\"))\n",
    "responses.append(conversation.invoke(input=\"Would you recommend this restaurant based on the review?\"))\n",
    "responses.append(conversation.invoke(input=\"What other information would you have liked to see in the review?\"))\n",
    "responses.append(conversation.invoke(input=\"Would you recommend this restaurant based on the review?\"))\n",
    "responses.append(conversation.invoke(input=\"What other information would you have liked to see in the review?\"))\n",
    "responses.append(conversation.invoke(input=\"Would you recommend this restaurant based on the review?\"))\n",
    "responses.append(conversation.invoke(input=\"What other information would you have liked to see in the review?\"))\n",
    "\n",
    "for i, response in enumerate(responses, 1):\n",
    "    print(f\"\\nExchange {i}:\")\n",
    "    print(f\"Input: {response['input']}\")\n",
    "    print(f\"Response: {response['response']}\")\n",
    "    print(f\"History: {response['history']}\")"
   ]
  }
 ],
 "metadata": {
  "kernelspec": {
   "display_name": "i2dl",
   "language": "python",
   "name": "python3"
  },
  "language_info": {
   "codemirror_mode": {
    "name": "ipython",
    "version": 3
   },
   "file_extension": ".py",
   "mimetype": "text/x-python",
   "name": "python",
   "nbconvert_exporter": "python",
   "pygments_lexer": "ipython3",
   "version": "3.11.11"
  }
 },
 "nbformat": 4,
 "nbformat_minor": 2
}
