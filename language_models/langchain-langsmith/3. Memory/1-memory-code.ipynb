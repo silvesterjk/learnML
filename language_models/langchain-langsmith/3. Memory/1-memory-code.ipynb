{
 "cells": [
  {
   "cell_type": "markdown",
   "metadata": {},
   "source": [
    "### Memory\n",
    "\n",
    "In some applications like chatbots, it is important to remember previous interactions to keep the whole context of a conversation. Memory does provide you an easy way to handle this"
   ]
  },
  {
   "cell_type": "code",
   "execution_count": 16,
   "metadata": {},
   "outputs": [
    {
     "data": {
      "text/plain": [
       "True"
      ]
     },
     "execution_count": 16,
     "metadata": {},
     "output_type": "execute_result"
    }
   ],
   "source": [
    "from dotenv import load_dotenv, find_dotenv\n",
    "\n",
    "load_dotenv(find_dotenv())"
   ]
  },
  {
   "cell_type": "code",
   "execution_count": 17,
   "metadata": {},
   "outputs": [
    {
     "data": {
      "text/plain": [
       "[HumanMessage(content='hi!', additional_kwargs={}, response_metadata={}),\n",
       " AIMessage(content='hello my friend!', additional_kwargs={}, response_metadata={})]"
      ]
     },
     "execution_count": 17,
     "metadata": {},
     "output_type": "execute_result"
    }
   ],
   "source": [
    "from langchain.memory import ChatMessageHistory\n",
    "\n",
    "history = ChatMessageHistory()\n",
    "\n",
    "history.add_user_message(\"hi!\")\n",
    "history.add_ai_message(\"hello my friend!\")\n",
    "history.messages"
   ]
  },
  {
   "cell_type": "code",
   "execution_count": 18,
   "metadata": {},
   "outputs": [
    {
     "data": {
      "text/plain": [
       "{'history': 'Human: hi!\\nAI: hello my friend!'}"
      ]
     },
     "execution_count": 18,
     "metadata": {},
     "output_type": "execute_result"
    }
   ],
   "source": [
    "from langchain.memory import ConversationBufferMemory\n",
    "\n",
    "# ConversationBufferMemory is a memory that stores the conversation in a buffer.\n",
    "# It is a simple memory that stores the conversation in a dictionary.\n",
    "\n",
    "memory = ConversationBufferMemory()\n",
    "memory.chat_memory.add_user_message(\"hi!\")\n",
    "memory.chat_memory.add_ai_message(\"hello my friend!\")\n",
    "memory.load_memory_variables({})"
   ]
  },
  {
   "cell_type": "code",
   "execution_count": 29,
   "metadata": {},
   "outputs": [
    {
     "name": "stdout",
     "output_type": "stream",
     "text": [
      "\n",
      "\n",
      "\u001b[1m> Entering new ConversationChain chain...\u001b[0m\n",
      "Prompt after formatting:\n",
      "\u001b[32;1m\u001b[1;3mThe following is a friendly conversation between a human and an AI. The AI is talkative and provides lots of specific details from its context. If the AI does not know the answer to a question, it truthfully says it does not know.\n",
      "\n",
      "Current conversation:\n",
      "\n",
      "Human: What is the capital of France?\n",
      "AI:\u001b[0m\n",
      "\n",
      "\u001b[1m> Finished chain.\u001b[0m\n"
     ]
    },
    {
     "data": {
      "text/plain": [
       "{'input': 'What is the capital of France?',\n",
       " 'history': '',\n",
       " 'response': 'The capital of France is Paris. It is known for its iconic landmarks such as the Eiffel Tower, Louvre Museum, and Notre-Dame Cathedral. Paris is also famous for its fashion, art, and cuisine.'}"
      ]
     },
     "execution_count": 29,
     "metadata": {},
     "output_type": "execute_result"
    }
   ],
   "source": [
    "from langchain_openai import ChatOpenAI\n",
    "from langchain.chains.conversation.base import ConversationChain\n",
    "\n",
    "\n",
    "llm = ChatOpenAI(temperature=0)\n",
    "conversation = ConversationChain(\n",
    "    llm=llm, verbose=True, memory=ConversationBufferMemory()\n",
    ")\n",
    "conversation.invoke(input=\"What is the capital of France?\")"
   ]
  },
  {
   "cell_type": "code",
   "execution_count": 20,
   "metadata": {},
   "outputs": [
    {
     "data": {
      "text/plain": [
       "{'input': 'Whats the best food there?',\n",
       " 'history': 'Human: What is the capital of France?\\nAI: The capital of France is Paris. It is known for its iconic landmarks such as the Eiffel Tower, Louvre Museum, and Notre-Dame Cathedral. Paris is also famous for its fashion, art, and cuisine.',\n",
       " 'response': 'Some popular French dishes in Paris include croissants, escargot, coq au vin, and ratatouille. French cuisine is known for its use of fresh ingredients and rich flavors. Paris also has a wide variety of restaurants offering international cuisine from around the world.'}"
      ]
     },
     "execution_count": 20,
     "metadata": {},
     "output_type": "execute_result"
    }
   ],
   "source": [
    "conversation.invoke(input=\"Whats the best food there?\")"
   ]
  },
  {
   "cell_type": "code",
   "execution_count": 27,
   "metadata": {},
   "outputs": [
    {
     "name": "stdout",
     "output_type": "stream",
     "text": [
      "memory=ConversationBufferMemory(chat_memory=InMemoryChatMessageHistory(messages=[])) verbose=True llm=ChatOpenAI(client=<openai.resources.chat.completions.completions.Completions object at 0x118924b90>, async_client=<openai.resources.chat.completions.completions.AsyncCompletions object at 0x10f06f7d0>, root_client=<openai.OpenAI object at 0x1184133d0>, root_async_client=<openai.AsyncOpenAI object at 0x10f06bcd0>, temperature=0.0, model_kwargs={}, openai_api_key=SecretStr('**********')) output_parser=StrOutputParser() llm_kwargs={}\n"
     ]
    }
   ],
   "source": []
  },
  {
   "cell_type": "markdown",
   "metadata": {},
   "source": [
    "### ConversationSummaryMemory\n",
    "\n",
    "When inputs get long, we might not want to send the whole conversation, but rather a summary."
   ]
  },
  {
   "cell_type": "code",
   "execution_count": 21,
   "metadata": {},
   "outputs": [],
   "source": [
    "from langchain.memory import ConversationSummaryBufferMemory\n",
    "\n",
    "review = \"I ordered Pizza Salami for 9.99$ and it was awesome! \\\n",
    "The pizza was delivered on time and was still hot when I received it. \\\n",
    "The crust was thin and crispy, and the toppings were fresh and flavorful. \\\n",
    "The Salami was well-cooked and complemented the cheese perfectly. \\\n",
    "The price was reasonable and I believe I got my money's worth. \\\n",
    "Overall, I am very satisfied with my order and I would recommend this pizza place to others.\"\n",
    "\n",
    "summary_memory = ConversationSummaryBufferMemory(llm=llm, max_token_limit=100) # If Token is 1000, no summary will be created\n",
    "summary_memory.save_context(\n",
    "    {\"input\": \"Hello, how can I help you today?\"},\n",
    "    {\"output\": \"Could you analyze a review for me?\"},\n",
    ")\n",
    "summary_memory.save_context(\n",
    "    {\"input\": \"Sure, I'd be happy to. Could you provide the review?\"},\n",
    "    {\"output\": f\"{review}\"},\n",
    ")"
   ]
  },
  {
   "cell_type": "code",
   "execution_count": 22,
   "metadata": {},
   "outputs": [
    {
     "name": "stdout",
     "output_type": "stream",
     "text": [
      "\n",
      "\n",
      "\u001b[1m> Entering new ConversationChain chain...\u001b[0m\n",
      "Prompt after formatting:\n",
      "\u001b[32;1m\u001b[1;3mThe following is a friendly conversation between a human and an AI. The AI is talkative and provides lots of specific details from its context. If the AI does not know the answer to a question, it truthfully says it does not know.\n",
      "\n",
      "Current conversation:\n",
      "System: The human offers to help the AI and asks how they can assist. The AI requests an analysis of a review and the human agrees to help if the review is provided.\n",
      "AI: I ordered Pizza Salami for 9.99$ and it was awesome! The pizza was delivered on time and was still hot when I received it. The crust was thin and crispy, and the toppings were fresh and flavorful. The Salami was well-cooked and complemented the cheese perfectly. The price was reasonable and I believe I got my money's worth. Overall, I am very satisfied with my order and I would recommend this pizza place to others.\n",
      "Human: Thank you very much!\n",
      "AI:\u001b[0m\n",
      "\n",
      "\u001b[1m> Finished chain.\u001b[0m\n"
     ]
    },
    {
     "data": {
      "text/plain": [
       "{'input': 'Thank you very much!',\n",
       " 'history': \"System: The human offers to help the AI and asks how they can assist. The AI requests an analysis of a review and the human agrees to help if the review is provided.\\nAI: I ordered Pizza Salami for 9.99$ and it was awesome! The pizza was delivered on time and was still hot when I received it. The crust was thin and crispy, and the toppings were fresh and flavorful. The Salami was well-cooked and complemented the cheese perfectly. The price was reasonable and I believe I got my money's worth. Overall, I am very satisfied with my order and I would recommend this pizza place to others.\",\n",
       " 'response': \"You're welcome! Now, could you please analyze this review for me?\"}"
      ]
     },
     "execution_count": 22,
     "metadata": {},
     "output_type": "execute_result"
    }
   ],
   "source": [
    "conversation = ConversationChain(\n",
    "    llm=llm, verbose=True, memory=summary_memory\n",
    ")\n",
    "\n",
    "conversation.invoke(input=\"Thank you very much!\")"
   ]
  },
  {
   "cell_type": "code",
   "execution_count": 23,
   "metadata": {},
   "outputs": [
    {
     "data": {
      "text/plain": [
       "{'history': 'Human: hi!\\nAI: hello my friend!'}"
      ]
     },
     "execution_count": 23,
     "metadata": {},
     "output_type": "execute_result"
    }
   ],
   "source": [
    "memory.load_memory_variables({})"
   ]
  },
  {
   "cell_type": "code",
   "execution_count": 34,
   "metadata": {},
   "outputs": [
    {
     "name": "stdout",
     "output_type": "stream",
     "text": [
      "\n",
      "\n",
      "\u001b[1m> Entering new ConversationChain chain...\u001b[0m\n",
      "Prompt after formatting:\n",
      "\u001b[32;1m\u001b[1;3mThe following is a friendly conversation between a human and an AI. The AI is talkative and provides lots of specific details from its context. If the AI does not know the answer to a question, it truthfully says it does not know.\n",
      "\n",
      "Current conversation:\n",
      "\n",
      "Human: Hello! I'd like to get your opinion on a restaurant review I received.\n",
      "AI:\u001b[0m\n",
      "\n",
      "\u001b[1m> Finished chain.\u001b[0m\n",
      "\n",
      "\n",
      "\u001b[1m> Entering new ConversationChain chain...\u001b[0m\n",
      "Prompt after formatting:\n",
      "\u001b[32;1m\u001b[1;3mThe following is a friendly conversation between a human and an AI. The AI is talkative and provides lots of specific details from its context. If the AI does not know the answer to a question, it truthfully says it does not know.\n",
      "\n",
      "Current conversation:\n",
      "Human: Hello! I'd like to get your opinion on a restaurant review I received.\n",
      "AI: Hello! I'd be happy to help. Please provide me with the details of the restaurant review and I'll give you my opinion based on the information provided.\n",
      "Human: Sure, I'd be happy to help! Could you share the review with me?\n",
      "AI:\u001b[0m\n",
      "\n",
      "\u001b[1m> Finished chain.\u001b[0m\n",
      "\n",
      "\n",
      "\u001b[1m> Entering new ConversationChain chain...\u001b[0m\n",
      "Prompt after formatting:\n",
      "\u001b[32;1m\u001b[1;3mThe following is a friendly conversation between a human and an AI. The AI is talkative and provides lots of specific details from its context. If the AI does not know the answer to a question, it truthfully says it does not know.\n",
      "\n",
      "Current conversation:\n",
      "Human: Hello! I'd like to get your opinion on a restaurant review I received.\n",
      "AI: Hello! I'd be happy to help. Please provide me with the details of the restaurant review and I'll give you my opinion based on the information provided.\n",
      "Human: Sure, I'd be happy to help! Could you share the review with me?\n",
      "AI: I'm sorry, but I don't have the ability to read or access external content like restaurant reviews. However, if you can provide me with a summary or key points from the review, I can definitely give you my opinion based on that information.\n",
      "Human: Here's the review: I ordered Pizza Salami for 9.99$ and it was awesome! \n",
      "The pizza was delivered on time and was still hot when I received it. \n",
      "The crust was thin and crispy, and the toppings were fresh and flavorful. \n",
      "The Salami was well-cooked and complemented the cheese perfectly. \n",
      "The price was reasonable and I believe I got my money's worth. \n",
      "Overall, I am very satisfied with my order and I would recommend this pizza place to others.\n",
      "AI:\u001b[0m\n",
      "\n",
      "\u001b[1m> Finished chain.\u001b[0m\n",
      "\n",
      "\n",
      "\u001b[1m> Entering new ConversationChain chain...\u001b[0m\n",
      "Prompt after formatting:\n",
      "\u001b[32;1m\u001b[1;3mThe following is a friendly conversation between a human and an AI. The AI is talkative and provides lots of specific details from its context. If the AI does not know the answer to a question, it truthfully says it does not know.\n",
      "\n",
      "Current conversation:\n",
      "System: The human asks the AI for its opinion on a restaurant review they received. The AI offers to help but explains it cannot access external content. The human provides a summary of the review, praising the Pizza Salami they ordered.\n",
      "AI: Based on the summary you provided, it sounds like the restaurant received a positive review for their Pizza Salami. The fact that the pizza was delivered on time and still hot is definitely a plus. The thin and crispy crust, fresh and flavorful toppings, and well-cooked Salami all contribute to a satisfying dining experience. The reasonable price point and overall satisfaction of the customer are also great indicators of a quality pizza place. I would agree with the reviewer's recommendation to others based on the positive feedback provided.\n",
      "Human: What aspects of the review stood out to you?\n",
      "AI:\u001b[0m\n",
      "\n",
      "\u001b[1m> Finished chain.\u001b[0m\n",
      "\n",
      "\n",
      "\u001b[1m> Entering new ConversationChain chain...\u001b[0m\n",
      "Prompt after formatting:\n",
      "\u001b[32;1m\u001b[1;3mThe following is a friendly conversation between a human and an AI. The AI is talkative and provides lots of specific details from its context. If the AI does not know the answer to a question, it truthfully says it does not know.\n",
      "\n",
      "Current conversation:\n",
      "System: The human asks the AI for its opinion on a restaurant review they received. The AI offers to help but explains it cannot access external content. The human provides a summary of the review, praising the Pizza Salami they ordered. Based on the summary provided, the AI agrees that the positive review for the Pizza Salami indicates a quality dining experience with fresh toppings, well-cooked Salami, and a reasonable price point. The AI would recommend the restaurant to others based on the positive feedback.\n",
      "Human: What aspects of the review stood out to you?\n",
      "AI: The aspects of the review that stood out to me were the positive comments about the taste and quality of the Pizza Salami, the prompt delivery and hot temperature of the pizza, the thin and crispy crust, the freshness and flavor of the toppings, the well-cooked Salami, the reasonable price point, and the overall satisfaction of the customer. These are all key factors that contribute to a positive dining experience at a pizza restaurant.\n",
      "Human: Do you think the price of 9.99$ is reasonable for this pizza?\n",
      "AI:\u001b[0m\n",
      "\n",
      "\u001b[1m> Finished chain.\u001b[0m\n",
      "\n",
      "\n",
      "\u001b[1m> Entering new ConversationChain chain...\u001b[0m\n",
      "Prompt after formatting:\n",
      "\u001b[32;1m\u001b[1;3mThe following is a friendly conversation between a human and an AI. The AI is talkative and provides lots of specific details from its context. If the AI does not know the answer to a question, it truthfully says it does not know.\n",
      "\n",
      "Current conversation:\n",
      "System: The human asks the AI for its opinion on a restaurant review they received. The AI offers to help but explains it cannot access external content. The human provides a summary of the review, praising the Pizza Salami they ordered. Based on the summary provided, the AI agrees that the positive review for the Pizza Salami indicates a quality dining experience with fresh toppings, well-cooked Salami, and a reasonable price point. The AI would recommend the restaurant to others based on the positive feedback. The AI highlights key aspects of the review that stood out, including the taste and quality of the Pizza Salami, prompt delivery, hot temperature, thin and crispy crust, freshness and flavor of toppings, well-cooked Salami, reasonable price point, and overall customer satisfaction.\n",
      "Human: Do you think the price of 9.99$ is reasonable for this pizza?\n",
      "AI: Based on the information provided in the review, the price of $9.99 for the Pizza Salami seems reasonable considering the positive feedback on the taste, quality, and overall satisfaction of the customer. A well-cooked Salami, fresh toppings, and a thin and crispy crust are all factors that contribute to the value of the pizza. Additionally, prompt delivery and hot temperature are also important aspects that enhance the dining experience. Overall, based on the positive review, the price of $9.99 appears to be justified for the quality of the pizza.\n",
      "Human: Would you recommend this restaurant based on the review?\n",
      "AI:\u001b[0m\n",
      "\n",
      "\u001b[1m> Finished chain.\u001b[0m\n",
      "\n",
      "\n",
      "\u001b[1m> Entering new ConversationChain chain...\u001b[0m\n",
      "Prompt after formatting:\n",
      "\u001b[32;1m\u001b[1;3mThe following is a friendly conversation between a human and an AI. The AI is talkative and provides lots of specific details from its context. If the AI does not know the answer to a question, it truthfully says it does not know.\n",
      "\n",
      "Current conversation:\n",
      "System: The human asks the AI for its opinion on a restaurant review they received. The AI offers to help but explains it cannot access external content. The human provides a summary of the review, praising the Pizza Salami they ordered. Based on the summary provided, the AI agrees that the positive review for the Pizza Salami indicates a quality dining experience with fresh toppings, well-cooked Salami, and a reasonable price point. The AI would recommend the restaurant to others based on the positive feedback. The AI highlights key aspects of the review that stood out, including the taste and quality of the Pizza Salami, prompt delivery, hot temperature, thin and crispy crust, freshness and flavor of toppings, well-cooked Salami, reasonable price point, and overall customer satisfaction. When asked about the $9.99 price for the pizza, the AI believes it is reasonable considering the positive feedback on the taste, quality, and overall satisfaction of the customer.\n",
      "Human: Would you recommend this restaurant based on the review?\n",
      "AI: Yes, based on the positive review of the Pizza Salami and the overall dining experience described, I would recommend this restaurant to others. The fresh toppings, well-cooked Salami, thin and crispy crust, prompt delivery, hot temperature, and reasonable price point all contribute to a quality dining experience. The customer satisfaction expressed in the review indicates that others may also enjoy dining at this restaurant.\n",
      "Human: What other information would you have liked to see in the review?\n",
      "AI:\u001b[0m\n",
      "\n",
      "\u001b[1m> Finished chain.\u001b[0m\n",
      "\n",
      "Exchange 1:\n",
      "Input: Hello! I'd like to get your opinion on a restaurant review I received.\n",
      "Response: Hello! I'd be happy to help. Please provide me with the details of the restaurant review and I'll give you my opinion based on the information provided.\n",
      "History: \n",
      "\n",
      "Exchange 2:\n",
      "Input: Sure, I'd be happy to help! Could you share the review with me?\n",
      "Response: I'm sorry, but I don't have the ability to read or access external content like restaurant reviews. However, if you can provide me with a summary or key points from the review, I can definitely give you my opinion based on that information.\n",
      "History: Human: Hello! I'd like to get your opinion on a restaurant review I received.\n",
      "AI: Hello! I'd be happy to help. Please provide me with the details of the restaurant review and I'll give you my opinion based on the information provided.\n",
      "\n",
      "Exchange 3:\n",
      "Input: Here's the review: I ordered Pizza Salami for 9.99$ and it was awesome! \n",
      "The pizza was delivered on time and was still hot when I received it. \n",
      "The crust was thin and crispy, and the toppings were fresh and flavorful. \n",
      "The Salami was well-cooked and complemented the cheese perfectly. \n",
      "The price was reasonable and I believe I got my money's worth. \n",
      "Overall, I am very satisfied with my order and I would recommend this pizza place to others.\n",
      "Response: Based on the summary you provided, it sounds like the restaurant received a positive review for their Pizza Salami. The fact that the pizza was delivered on time and still hot is definitely a plus. The thin and crispy crust, fresh and flavorful toppings, and well-cooked Salami all contribute to a satisfying dining experience. The reasonable price point and overall satisfaction of the customer are also great indicators of a quality pizza place. I would agree with the reviewer's recommendation to others based on the positive feedback provided.\n",
      "History: Human: Hello! I'd like to get your opinion on a restaurant review I received.\n",
      "AI: Hello! I'd be happy to help. Please provide me with the details of the restaurant review and I'll give you my opinion based on the information provided.\n",
      "Human: Sure, I'd be happy to help! Could you share the review with me?\n",
      "AI: I'm sorry, but I don't have the ability to read or access external content like restaurant reviews. However, if you can provide me with a summary or key points from the review, I can definitely give you my opinion based on that information.\n",
      "\n",
      "Exchange 4:\n",
      "Input: What aspects of the review stood out to you?\n",
      "Response: The aspects of the review that stood out to me were the positive comments about the taste and quality of the Pizza Salami, the prompt delivery and hot temperature of the pizza, the thin and crispy crust, the freshness and flavor of the toppings, the well-cooked Salami, the reasonable price point, and the overall satisfaction of the customer. These are all key factors that contribute to a positive dining experience at a pizza restaurant.\n",
      "History: System: The human asks the AI for its opinion on a restaurant review they received. The AI offers to help but explains it cannot access external content. The human provides a summary of the review, praising the Pizza Salami they ordered.\n",
      "AI: Based on the summary you provided, it sounds like the restaurant received a positive review for their Pizza Salami. The fact that the pizza was delivered on time and still hot is definitely a plus. The thin and crispy crust, fresh and flavorful toppings, and well-cooked Salami all contribute to a satisfying dining experience. The reasonable price point and overall satisfaction of the customer are also great indicators of a quality pizza place. I would agree with the reviewer's recommendation to others based on the positive feedback provided.\n",
      "\n",
      "Exchange 5:\n",
      "Input: Do you think the price of 9.99$ is reasonable for this pizza?\n",
      "Response: Based on the information provided in the review, the price of $9.99 for the Pizza Salami seems reasonable considering the positive feedback on the taste, quality, and overall satisfaction of the customer. A well-cooked Salami, fresh toppings, and a thin and crispy crust are all factors that contribute to the value of the pizza. Additionally, prompt delivery and hot temperature are also important aspects that enhance the dining experience. Overall, based on the positive review, the price of $9.99 appears to be justified for the quality of the pizza.\n",
      "History: System: The human asks the AI for its opinion on a restaurant review they received. The AI offers to help but explains it cannot access external content. The human provides a summary of the review, praising the Pizza Salami they ordered. Based on the summary provided, the AI agrees that the positive review for the Pizza Salami indicates a quality dining experience with fresh toppings, well-cooked Salami, and a reasonable price point. The AI would recommend the restaurant to others based on the positive feedback.\n",
      "Human: What aspects of the review stood out to you?\n",
      "AI: The aspects of the review that stood out to me were the positive comments about the taste and quality of the Pizza Salami, the prompt delivery and hot temperature of the pizza, the thin and crispy crust, the freshness and flavor of the toppings, the well-cooked Salami, the reasonable price point, and the overall satisfaction of the customer. These are all key factors that contribute to a positive dining experience at a pizza restaurant.\n",
      "\n",
      "Exchange 6:\n",
      "Input: Would you recommend this restaurant based on the review?\n",
      "Response: Yes, based on the positive review of the Pizza Salami and the overall dining experience described, I would recommend this restaurant to others. The fresh toppings, well-cooked Salami, thin and crispy crust, prompt delivery, hot temperature, and reasonable price point all contribute to a quality dining experience. The customer satisfaction expressed in the review indicates that others may also enjoy dining at this restaurant.\n",
      "History: System: The human asks the AI for its opinion on a restaurant review they received. The AI offers to help but explains it cannot access external content. The human provides a summary of the review, praising the Pizza Salami they ordered. Based on the summary provided, the AI agrees that the positive review for the Pizza Salami indicates a quality dining experience with fresh toppings, well-cooked Salami, and a reasonable price point. The AI would recommend the restaurant to others based on the positive feedback. The AI highlights key aspects of the review that stood out, including the taste and quality of the Pizza Salami, prompt delivery, hot temperature, thin and crispy crust, freshness and flavor of toppings, well-cooked Salami, reasonable price point, and overall customer satisfaction.\n",
      "Human: Do you think the price of 9.99$ is reasonable for this pizza?\n",
      "AI: Based on the information provided in the review, the price of $9.99 for the Pizza Salami seems reasonable considering the positive feedback on the taste, quality, and overall satisfaction of the customer. A well-cooked Salami, fresh toppings, and a thin and crispy crust are all factors that contribute to the value of the pizza. Additionally, prompt delivery and hot temperature are also important aspects that enhance the dining experience. Overall, based on the positive review, the price of $9.99 appears to be justified for the quality of the pizza.\n",
      "\n",
      "Exchange 7:\n",
      "Input: What other information would you have liked to see in the review?\n",
      "Response: I would have liked to see more details on the variety of menu options available at the restaurant, the quality of the service provided by the staff, the ambiance and cleanliness of the dining area, any special deals or promotions offered, and perhaps some feedback on other menu items besides the Pizza Salami. Additionally, information on the portion size of the pizza, the speed of the delivery service, and any potential drawbacks or areas for improvement mentioned in the review would have been helpful to provide a more comprehensive understanding of the dining experience.\n",
      "History: System: The human asks the AI for its opinion on a restaurant review they received. The AI offers to help but explains it cannot access external content. The human provides a summary of the review, praising the Pizza Salami they ordered. Based on the summary provided, the AI agrees that the positive review for the Pizza Salami indicates a quality dining experience with fresh toppings, well-cooked Salami, and a reasonable price point. The AI would recommend the restaurant to others based on the positive feedback. The AI highlights key aspects of the review that stood out, including the taste and quality of the Pizza Salami, prompt delivery, hot temperature, thin and crispy crust, freshness and flavor of toppings, well-cooked Salami, reasonable price point, and overall customer satisfaction. When asked about the $9.99 price for the pizza, the AI believes it is reasonable considering the positive feedback on the taste, quality, and overall satisfaction of the customer.\n",
      "Human: Would you recommend this restaurant based on the review?\n",
      "AI: Yes, based on the positive review of the Pizza Salami and the overall dining experience described, I would recommend this restaurant to others. The fresh toppings, well-cooked Salami, thin and crispy crust, prompt delivery, hot temperature, and reasonable price point all contribute to a quality dining experience. The customer satisfaction expressed in the review indicates that others may also enjoy dining at this restaurant.\n"
     ]
    }
   ],
   "source": [
    "from langchain_openai import ChatOpenAI\n",
    "from langchain.memory import ConversationSummaryBufferMemory\n",
    "from langchain.chains.conversation.base import ConversationChain\n",
    "\n",
    "# Initialize the LLM\n",
    "llm = ChatOpenAI(temperature=0)\n",
    "\n",
    "# Create the summary memory with a token limit\n",
    "summary_memory = ConversationSummaryBufferMemory(llm=llm, max_token_limit=150)\n",
    "\n",
    "# Create a conversation chain\n",
    "conversation = ConversationChain(\n",
    "    llm=llm,\n",
    "    verbose=True,\n",
    "    memory=summary_memory\n",
    ")\n",
    "\n",
    "responses = []\n",
    "responses.append(conversation.invoke(input=\"Hello! I'd like to get your opinion on a restaurant review I received.\"))\n",
    "responses.append(conversation.invoke(input=\"Sure, I'd be happy to help! Could you share the review with me?\"))\n",
    "responses.append(conversation.invoke(input=\"\"\"Here's the review: I ordered Pizza Salami for 9.99$ and it was awesome! \n",
    "The pizza was delivered on time and was still hot when I received it. \n",
    "The crust was thin and crispy, and the toppings were fresh and flavorful. \n",
    "The Salami was well-cooked and complemented the cheese perfectly. \n",
    "The price was reasonable and I believe I got my money's worth. \n",
    "Overall, I am very satisfied with my order and I would recommend this pizza place to others.\"\"\"))\n",
    "responses.append(conversation.invoke(input=\"What aspects of the review stood out to you?\"))\n",
    "responses.append(conversation.invoke(input=\"Do you think the price of 9.99$ is reasonable for this pizza?\"))\n",
    "responses.append(conversation.invoke(input=\"Would you recommend this restaurant based on the review?\"))\n",
    "responses.append(conversation.invoke(input=\"What other information would you have liked to see in the review?\"))\n",
    "\n",
    "for i, response in enumerate(responses, 1):\n",
    "    print(f\"\\nExchange {i}:\")\n",
    "    print(f\"Input: {response['input']}\")\n",
    "    print(f\"Response: {response['response']}\")\n",
    "    print(f\"History: {response['history']}\")"
   ]
  }
 ],
 "metadata": {
  "kernelspec": {
   "display_name": "i2dl",
   "language": "python",
   "name": "python3"
  },
  "language_info": {
   "codemirror_mode": {
    "name": "ipython",
    "version": 3
   },
   "file_extension": ".py",
   "mimetype": "text/x-python",
   "name": "python",
   "nbconvert_exporter": "python",
   "pygments_lexer": "ipython3",
   "version": "3.11.11"
  }
 },
 "nbformat": 4,
 "nbformat_minor": 2
}
