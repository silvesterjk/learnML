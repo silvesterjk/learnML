{
 "cells": [
  {
   "cell_type": "markdown",
   "metadata": {},
   "source": [
    "# OpenAI API - Chat completions API\n",
    "Chat models process a sequence of messages to generate a single output message, facilitating both multi-turn conversations and single-turn tasks efficiently."
   ]
  },
  {
   "cell_type": "code",
   "execution_count": 1,
   "metadata": {},
   "outputs": [
    {
     "name": "stdout",
     "output_type": "stream",
     "text": [
      "Current working directory: /Users/silvesterjk/Documents/Development/gitFolder/learnML/language_models/langchain-langsmith/1. Basics\n",
      "API key found: sk-p...2mkA\n"
     ]
    }
   ],
   "source": [
    "from dotenv import load_dotenv\n",
    "import os\n",
    "\n",
    "# Print the current working directory to verify where Python is looking for the .env file\n",
    "print(\"Current working directory:\", os.getcwd())\n",
    "\n",
    "# Load the .env file\n",
    "load_dotenv()\n",
    "\n",
    "# Print the API key (first few characters for security)\n",
    "api_key = os.getenv(\"OPENAI_API_KEY\")\n",
    "if api_key:\n",
    "    print(\"API key found:\", api_key[:4] + \"...\" + api_key[-4:])\n",
    "else:\n",
    "    print(\"No API key found\")"
   ]
  },
  {
   "cell_type": "code",
   "execution_count": 2,
   "metadata": {},
   "outputs": [],
   "source": [
    "import openai\n",
    "\n",
    "response = openai.chat.completions.create(\n",
    "    model=\"gpt-4o-mini\",\n",
    "    messages=[\n",
    "        {\"role\": \"system\", \"content\": \"You are a helpful assistant specialized in providing information about BellaVista Italian Restaurant.\"},\n",
    "        {\"role\": \"user\", \"content\": \"What's on the menu?\"},\n",
    "        {\"role\": \"assistant\", \"content\": \"BellaVista offers a variety of Italian dishes including pasta, pizza, and seafood.\"},\n",
    "        {\"role\": \"user\", \"content\": \"Do you have vegan options?\"}\n",
    "    ]\n",
    ")"
   ]
  },
  {
   "cell_type": "code",
   "execution_count": 3,
   "metadata": {},
   "outputs": [
    {
     "data": {
      "text/plain": [
       "{'id': 'chatcmpl-BbqS0wrrBG1XV4t1uRSu9FK8xPWlb',\n",
       " 'choices': [{'finish_reason': 'stop',\n",
       "   'index': 0,\n",
       "   'logprobs': None,\n",
       "   'message': {'content': \"Yes, BellaVista Italian Restaurant typically offers vegan options on their menu. You can usually find items such as vegetable-based pastas, salads, and possibly pizzas made without dairy. It's always a good idea to check with the staff for specific vegan offerings or modifications.\",\n",
       "    'refusal': None,\n",
       "    'role': 'assistant',\n",
       "    'annotations': [],\n",
       "    'audio': None,\n",
       "    'function_call': None,\n",
       "    'tool_calls': None}}],\n",
       " 'created': 1748359456,\n",
       " 'model': 'gpt-4o-mini-2024-07-18',\n",
       " 'object': 'chat.completion',\n",
       " 'service_tier': 'default',\n",
       " 'system_fingerprint': 'fp_34a54ae93c',\n",
       " 'usage': {'completion_tokens': 52,\n",
       "  'prompt_tokens': 61,\n",
       "  'total_tokens': 113,\n",
       "  'completion_tokens_details': {'accepted_prediction_tokens': 0,\n",
       "   'audio_tokens': 0,\n",
       "   'reasoning_tokens': 0,\n",
       "   'rejected_prediction_tokens': 0},\n",
       "  'prompt_tokens_details': {'audio_tokens': 0, 'cached_tokens': 0}}}"
      ]
     },
     "execution_count": 3,
     "metadata": {},
     "output_type": "execute_result"
    }
   ],
   "source": [
    "response.model_dump()"
   ]
  },
  {
   "cell_type": "code",
   "execution_count": 4,
   "metadata": {},
   "outputs": [
    {
     "name": "stdout",
     "output_type": "stream",
     "text": [
      "Yes, BellaVista Italian Restaurant typically offers vegan options on their menu. You can usually find items such as vegetable-based pastas, salads, and possibly pizzas made without dairy. It's always a good idea to check with the staff for specific vegan offerings or modifications.\n"
     ]
    }
   ],
   "source": [
    "print(response.choices[0].message.content)"
   ]
  }
 ],
 "metadata": {
  "kernelspec": {
   "display_name": "i2dl",
   "language": "python",
   "name": "python3"
  },
  "language_info": {
   "codemirror_mode": {
    "name": "ipython",
    "version": 3
   },
   "file_extension": ".py",
   "mimetype": "text/x-python",
   "name": "python",
   "nbconvert_exporter": "python",
   "pygments_lexer": "ipython3",
   "version": "3.11.11"
  }
 },
 "nbformat": 4,
 "nbformat_minor": 2
}
