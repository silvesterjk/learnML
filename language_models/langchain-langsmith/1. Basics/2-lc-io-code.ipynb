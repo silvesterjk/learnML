{
 "cells": [
  {
   "cell_type": "markdown",
   "metadata": {},
   "source": [
    "### Text Completion vs Chat Completion"
   ]
  },
  {
   "cell_type": "code",
   "execution_count": 1,
   "metadata": {},
   "outputs": [
    {
     "data": {
      "text/plain": [
       "True"
      ]
     },
     "execution_count": 1,
     "metadata": {},
     "output_type": "execute_result"
    }
   ],
   "source": [
    "from dotenv import load_dotenv, find_dotenv\n",
    "\n",
    "load_dotenv(find_dotenv())"
   ]
  },
  {
   "cell_type": "code",
   "execution_count": 2,
   "metadata": {},
   "outputs": [
    {
     "name": "stdout",
     "output_type": "stream",
     "text": [
      "LangChain version: 0.3.21\n"
     ]
    }
   ],
   "source": [
    "import langchain\n",
    "print(f\"LangChain version: {langchain.__version__}\")"
   ]
  },
  {
   "cell_type": "markdown",
   "metadata": {},
   "source": [
    "### Text Completion models has been deprecated"
   ]
  },
  {
   "cell_type": "code",
   "execution_count": 3,
   "metadata": {},
   "outputs": [
    {
     "name": "stderr",
     "output_type": "stream",
     "text": [
      "/var/folders/d1/d31w101x0f31vstymvwz8kwr0000gn/T/ipykernel_31084/2810639211.py:4: LangChainDeprecationWarning: The method `BaseLLM.__call__` was deprecated in langchain-core 0.1.7 and will be removed in 1.0. Use :meth:`~invoke` instead.\n",
      "  llm(\"Tell me a joke\")\n"
     ]
    },
    {
     "data": {
      "text/plain": [
       "\"\\n\\nWhy couldn't the bicycle stand up by itself? Because it was two-tired!\""
      ]
     },
     "execution_count": 3,
     "metadata": {},
     "output_type": "execute_result"
    }
   ],
   "source": [
    "from langchain_openai import OpenAI\n",
    "\n",
    "llm = OpenAI()\n",
    "llm(\"Tell me a joke\")"
   ]
  },
  {
   "cell_type": "code",
   "execution_count": 4,
   "metadata": {},
   "outputs": [
    {
     "data": {
      "text/plain": [
       "\"\\n\\nWhy don't scientists trust atoms?\\n\\nBecause they make up everything.\""
      ]
     },
     "execution_count": 4,
     "metadata": {},
     "output_type": "execute_result"
    }
   ],
   "source": [
    "llm(\"Tell me a joke\")"
   ]
  },
  {
   "cell_type": "code",
   "execution_count": 5,
   "metadata": {},
   "outputs": [
    {
     "data": {
      "text/plain": [
       "\"\\n\\nWhy couldn't the bicycle stand up by itself? Because it was two-tired!\""
      ]
     },
     "execution_count": 5,
     "metadata": {},
     "output_type": "execute_result"
    }
   ],
   "source": [
    "llm.invoke(input=\"Tell me a joke\")"
   ]
  },
  {
   "cell_type": "markdown",
   "metadata": {},
   "source": [
    "Batch Processing - Make multiple requests at once"
   ]
  },
  {
   "cell_type": "code",
   "execution_count": 6,
   "metadata": {},
   "outputs": [
    {
     "name": "stdout",
     "output_type": "stream",
     "text": [
      "generations=[[Generation(text='\\n\\nWhy did the cow cross the road?\\n\\nTo get to the moooo-vies!', generation_info={'finish_reason': 'stop', 'logprobs': None})], [Generation(text='\\n\\nWhy was the parrot kicked out of the comedy club?\\n\\nBecause he kept squawking out all the punchlines!', generation_info={'finish_reason': 'stop', 'logprobs': None})]] llm_output={'token_usage': {'total_tokens': 56, 'completion_tokens': 43, 'prompt_tokens': 13}, 'model_name': 'gpt-3.5-turbo-instruct'} run=[RunInfo(run_id=UUID('8050c707-08e5-4bd7-b42a-9662ee9c2017')), RunInfo(run_id=UUID('c971bb67-8d4f-42fa-a70e-6bc6839b8246'))] type='LLMResult'\n"
     ]
    }
   ],
   "source": [
    "result = llm.generate([\"Tell me a joke about cows\", \"Tell me a joke about parrots\"])\n",
    "print(result)"
   ]
  },
  {
   "cell_type": "code",
   "execution_count": 7,
   "metadata": {},
   "outputs": [
    {
     "data": {
      "text/plain": [
       "'\\n{\\n  \"generations\": [\\n    {\\n      \"text\": \"\\n\\nWhy did the cow cross the road?\\n\\nTo get to the other side!\",\\n      \"generation_info\": {\\n        \"finish_reason\": \"stop\",\\n        \"logprobs\": null\\n      }\\n    },\\n    {\\n      \"text\": \"\\n\\nWhy did the parrot wear a raincoat?\\n\\nBecause he wanted to be polly-proof!\",\\n      \"generation_info\": {\\n        \"finish_reason\": \"stop\",\\n        \"logprobs\": null\\n      }\\n    }\\n  ],\\n  \"llm_output\": {\\n    \"token_usage\": {\\n      \"completion_tokens\": 38,\\n      \"prompt_tokens\": 13,\\n      \"total_tokens\": 51\\n    },\\n    \"model_name\": \"gpt-3.5-turbo-instruct\"\\n  },\\n  \"run\": [\\n    {\\n      \"run_id\": \"9c1c3f25-4b16-4231-9ad7-491b7992a13f\"\\n    },\\n    {\\n      \"run_id\": \"396c42c9-ec90-48c8-aa28-2fe2fade98f3\"\\n    }\\n  ],\\n  \"type\": \"LLMResult\"\\n}\\n'"
      ]
     },
     "execution_count": 7,
     "metadata": {},
     "output_type": "execute_result"
    }
   ],
   "source": [
    "\"\"\"\n",
    "{\n",
    "  \"generations\": [\n",
    "    {\n",
    "      \"text\": \"\\n\\nWhy did the cow cross the road?\\n\\nTo get to the other side!\",\n",
    "      \"generation_info\": {\n",
    "        \"finish_reason\": \"stop\",\n",
    "        \"logprobs\": null\n",
    "      }\n",
    "    },\n",
    "    {\n",
    "      \"text\": \"\\n\\nWhy did the parrot wear a raincoat?\\n\\nBecause he wanted to be polly-proof!\",\n",
    "      \"generation_info\": {\n",
    "        \"finish_reason\": \"stop\",\n",
    "        \"logprobs\": null\n",
    "      }\n",
    "    }\n",
    "  ],\n",
    "  \"llm_output\": {\n",
    "    \"token_usage\": {\n",
    "      \"completion_tokens\": 38,\n",
    "      \"prompt_tokens\": 13,\n",
    "      \"total_tokens\": 51\n",
    "    },\n",
    "    \"model_name\": \"gpt-3.5-turbo-instruct\"\n",
    "  },\n",
    "  \"run\": [\n",
    "    {\n",
    "      \"run_id\": \"9c1c3f25-4b16-4231-9ad7-491b7992a13f\"\n",
    "    },\n",
    "    {\n",
    "      \"run_id\": \"396c42c9-ec90-48c8-aa28-2fe2fade98f3\"\n",
    "    }\n",
    "  ],\n",
    "  \"type\": \"LLMResult\"\n",
    "}\n",
    "\"\"\""
   ]
  },
  {
   "cell_type": "code",
   "execution_count": 8,
   "metadata": {},
   "outputs": [
    {
     "data": {
      "text/plain": [
       "{'token_usage': {'total_tokens': 56,\n",
       "  'completion_tokens': 43,\n",
       "  'prompt_tokens': 13},\n",
       " 'model_name': 'gpt-3.5-turbo-instruct'}"
      ]
     },
     "execution_count": 8,
     "metadata": {},
     "output_type": "execute_result"
    }
   ],
   "source": [
    "result.llm_output"
   ]
  },
  {
   "cell_type": "markdown",
   "metadata": {},
   "source": [
    "### Creating a conversation with SystemMessage, AIMessage and SystemMessage"
   ]
  },
  {
   "cell_type": "code",
   "execution_count": 9,
   "metadata": {},
   "outputs": [],
   "source": [
    "from langchain_openai import ChatOpenAI\n",
    "\n",
    "llm = ChatOpenAI(model=\"gpt-4o-mini\")"
   ]
  },
  {
   "cell_type": "code",
   "execution_count": 10,
   "metadata": {},
   "outputs": [
    {
     "name": "stdout",
     "output_type": "stream",
     "text": [
      "content='What do you call a cow with no legs? \\n\\nGround beef! 🐄😄' additional_kwargs={'refusal': None} response_metadata={'token_usage': {'completion_tokens': 19, 'prompt_tokens': 13, 'total_tokens': 32, 'completion_tokens_details': {'accepted_prediction_tokens': 0, 'audio_tokens': 0, 'reasoning_tokens': 0, 'rejected_prediction_tokens': 0}, 'prompt_tokens_details': {'audio_tokens': 0, 'cached_tokens': 0}}, 'model_name': 'gpt-4o-mini-2024-07-18', 'system_fingerprint': 'fp_34a54ae93c', 'id': 'chatcmpl-Bd6i3e9NLkZZ7BpbpR3FA6T3IKZfA', 'finish_reason': 'stop', 'logprobs': None} id='run-4cb82ccc-a2ec-4255-84d2-675e0d4bf14f-0' usage_metadata={'input_tokens': 13, 'output_tokens': 19, 'total_tokens': 32, 'input_token_details': {'audio': 0, 'cache_read': 0}, 'output_token_details': {'audio': 0, 'reasoning': 0}}\n"
     ]
    }
   ],
   "source": [
    "# predict to invoke --> Based on the changes introduced in langchain 0.2.0\n",
    "result = llm.invoke(\"Tell me a joke about cows\")\n",
    "print(result)"
   ]
  },
  {
   "cell_type": "code",
   "execution_count": 11,
   "metadata": {},
   "outputs": [],
   "source": [
    "from langchain.schema import SystemMessage, HumanMessage, AIMessage\n",
    "\n",
    "messages = [\n",
    "    SystemMessage(content=\"You are a helpful assistant specialized in providing information about BellaVista Italian Restaurant.\"),\n",
    "    HumanMessage(content=\"What's on the menu?\"),\n",
    "    AIMessage(content=\"BellaVista offers a variety of Italian dishes including pasta, pizza, and seafood.\"),\n",
    "    HumanMessage(content=\"Do you have vegan options?\")\n",
    "]"
   ]
  },
  {
   "cell_type": "code",
   "execution_count": 12,
   "metadata": {},
   "outputs": [
    {
     "data": {
      "text/plain": [
       "AIMessage(content=\"Yes, BellaVista typically offers a selection of vegan options. You can expect to find dishes like vegan pasta, salads, and possibly some vegetable-based pizzas. It's always a good idea to check the menu or ask staff for specific vegan options available during your visit.\", additional_kwargs={'refusal': None}, response_metadata={'token_usage': {'completion_tokens': 52, 'prompt_tokens': 61, 'total_tokens': 113, 'completion_tokens_details': {'accepted_prediction_tokens': 0, 'audio_tokens': 0, 'reasoning_tokens': 0, 'rejected_prediction_tokens': 0}, 'prompt_tokens_details': {'audio_tokens': 0, 'cached_tokens': 0}}, 'model_name': 'gpt-4o-mini-2024-07-18', 'system_fingerprint': 'fp_62a23a81ef', 'id': 'chatcmpl-Bd6i4ClYNAncGRgZcUjsOOZFutOPo', 'finish_reason': 'stop', 'logprobs': None}, id='run-a32dc07c-de6a-4693-bc0d-5b93b67a54d5-0', usage_metadata={'input_tokens': 61, 'output_tokens': 52, 'total_tokens': 113, 'input_token_details': {'audio': 0, 'cache_read': 0}, 'output_token_details': {'audio': 0, 'reasoning': 0}})"
      ]
     },
     "execution_count": 12,
     "metadata": {},
     "output_type": "execute_result"
    }
   ],
   "source": [
    "llm_result = llm.invoke(input=messages)\n",
    "llm_result"
   ]
  },
  {
   "cell_type": "markdown",
   "metadata": {},
   "source": [
    "Batch Processing for Chat Models - Make multiple requests at once"
   ]
  },
  {
   "cell_type": "code",
   "execution_count": 13,
   "metadata": {},
   "outputs": [
    {
     "data": {
      "text/plain": [
       "LLMResult(generations=[[ChatGeneration(text='ನಿಮ್ಮಲ್ಲಿ ಮಾರುಕಟ್ಟೆ ಇರುವ ವೆಜನ್ ಆಯ್ಕೆಗಳು ಇದೇ?', generation_info={'finish_reason': 'stop', 'logprobs': None}, message=AIMessage(content='ನಿಮ್ಮಲ್ಲಿ ಮಾರುಕಟ್ಟೆ ಇರುವ ವೆಜನ್ ಆಯ್ಕೆಗಳು ಇದೇ?', additional_kwargs={'refusal': None}, response_metadata={'token_usage': {'completion_tokens': 19, 'prompt_tokens': 27, 'total_tokens': 46, 'completion_tokens_details': {'accepted_prediction_tokens': 0, 'audio_tokens': 0, 'reasoning_tokens': 0, 'rejected_prediction_tokens': 0}, 'prompt_tokens_details': {'audio_tokens': 0, 'cached_tokens': 0}}, 'model_name': 'gpt-4o-mini-2024-07-18', 'system_fingerprint': 'fp_34a54ae93c', 'id': 'chatcmpl-Bd6i6ZA55FB8amZyCn4grg533YQ97', 'finish_reason': 'stop', 'logprobs': None}, id='run-cf326752-9f3b-4518-9e68-0f403cda4406-0', usage_metadata={'input_tokens': 27, 'output_tokens': 19, 'total_tokens': 46, 'input_token_details': {'audio': 0, 'cache_read': 0}, 'output_token_details': {'audio': 0, 'reasoning': 0}}))], [ChatGeneration(text='क्या आपके पास शाकाहारी विकल्प हैं?', generation_info={'finish_reason': 'stop', 'logprobs': None}, message=AIMessage(content='क्या आपके पास शाकाहारी विकल्प हैं?', additional_kwargs={'refusal': None}, response_metadata={'token_usage': {'completion_tokens': 10, 'prompt_tokens': 29, 'total_tokens': 39, 'completion_tokens_details': {'accepted_prediction_tokens': 0, 'audio_tokens': 0, 'reasoning_tokens': 0, 'rejected_prediction_tokens': 0}, 'prompt_tokens_details': {'audio_tokens': 0, 'cached_tokens': 0}}, 'model_name': 'gpt-4o-mini-2024-07-18', 'system_fingerprint': 'fp_34a54ae93c', 'id': 'chatcmpl-Bd6i7w8tvrKoqldROsJGZrkVLg4vK', 'finish_reason': 'stop', 'logprobs': None}, id='run-c13eaa50-7d88-4d84-b0ba-a176e03e2369-0', usage_metadata={'input_tokens': 29, 'output_tokens': 10, 'total_tokens': 39, 'input_token_details': {'audio': 0, 'cache_read': 0}, 'output_token_details': {'audio': 0, 'reasoning': 0}}))]], llm_output={'token_usage': {'completion_tokens': 29, 'prompt_tokens': 56, 'total_tokens': 85, 'completion_tokens_details': {'accepted_prediction_tokens': 0, 'audio_tokens': 0, 'reasoning_tokens': 0, 'rejected_prediction_tokens': 0}, 'prompt_tokens_details': {'audio_tokens': 0, 'cached_tokens': 0}}, 'model_name': 'gpt-4o-mini', 'system_fingerprint': 'fp_34a54ae93c'}, run=[RunInfo(run_id=UUID('cf326752-9f3b-4518-9e68-0f403cda4406')), RunInfo(run_id=UUID('c13eaa50-7d88-4d84-b0ba-a176e03e2369'))], type='LLMResult')"
      ]
     },
     "execution_count": 13,
     "metadata": {},
     "output_type": "execute_result"
    }
   ],
   "source": [
    "batch_messages = [\n",
    "    [\n",
    "        SystemMessage(content=\"You are a helpful assistant that translates English to Kannada\"),\n",
    "        HumanMessage(content=\"Do you have vegan options?\")\n",
    "    ],\n",
    "    [\n",
    "        SystemMessage(content=\"You are a helpful assistant that translates the English to Hindi.\"),\n",
    "        HumanMessage(content=\"Do you have vegan options?\")\n",
    "    ],\n",
    "]\n",
    "batch_result = llm.generate(batch_messages)\n",
    "batch_result"
   ]
  },
  {
   "cell_type": "markdown",
   "metadata": {},
   "source": [
    "1. LLMResult is the top-level object that contains a list of generations.\n",
    "2. Each of those elements is itself a list of Generation (or ChatGeneration) objects.\n",
    "3. The code expects batch_result to be an LLMResult object that has a .generations attribute (which is a list of lists of Generation objects)."
   ]
  },
  {
   "cell_type": "code",
   "execution_count": 14,
   "metadata": {},
   "outputs": [
    {
     "name": "stdout",
     "output_type": "stream",
     "text": [
      "<class 'langchain_core.outputs.llm_result.LLMResult'>\n"
     ]
    }
   ],
   "source": [
    "print(type(batch_result))"
   ]
  },
  {
   "cell_type": "code",
   "execution_count": 15,
   "metadata": {},
   "outputs": [
    {
     "data": {
      "text/plain": [
       "\"\\nbatch_result = LLMResult(\\n    generations=[\\n        # First input's generations\\n        [ChatGeneration(text='ನಿಮ್ಮ ಬಳಿ ಶಾಕಾಹಾರಿ ಆಯ್ಕೆಗಳು ಇದಿವೆಯಾ?', ...)], # This is generation[0] for the first batch item\\n        # Second input's generations\\n        [ChatGeneration(text='क्या आपके पास शाकाहारी विकल्प हैं?', ...)]  # This is generation[0] for the second batch item\\n    ],\\n    # ... other LLMResult attributes\\n)\\n\""
      ]
     },
     "execution_count": 15,
     "metadata": {},
     "output_type": "execute_result"
    }
   ],
   "source": [
    "\"\"\"\n",
    "batch_result = LLMResult(\n",
    "    generations=[\n",
    "        # First input's generations\n",
    "        [ChatGeneration(text='ನಿಮ್ಮ ಬಳಿ ಶಾಕಾಹಾರಿ ಆಯ್ಕೆಗಳು ಇದಿವೆಯಾ?', ...)], # This is generation[0] for the first batch item\n",
    "        # Second input's generations\n",
    "        [ChatGeneration(text='क्या आपके पास शाकाहारी विकल्प हैं?', ...)]  # This is generation[0] for the second batch item\n",
    "    ],\n",
    "    # ... other LLMResult attributes\n",
    ")\n",
    "\"\"\""
   ]
  },
  {
   "cell_type": "code",
   "execution_count": 16,
   "metadata": {},
   "outputs": [
    {
     "data": {
      "text/plain": [
       "['ನಿಮ್ಮಲ್ಲಿ ಮಾರುಕಟ್ಟೆ ಇರುವ ವೆಜನ್ ಆಯ್ಕೆಗಳು ಇದೇ?',\n",
       " 'क्या आपके पास शाकाहारी विकल्प हैं?']"
      ]
     },
     "execution_count": 16,
     "metadata": {},
     "output_type": "execute_result"
    }
   ],
   "source": [
    "translations = [gen_text[0].text for gen_text in batch_result.generations]\n",
    "translations"
   ]
  }
 ],
 "metadata": {
  "kernelspec": {
   "display_name": "i2dl",
   "language": "python",
   "name": "python3"
  },
  "language_info": {
   "codemirror_mode": {
    "name": "ipython",
    "version": 3
   },
   "file_extension": ".py",
   "mimetype": "text/x-python",
   "name": "python",
   "nbconvert_exporter": "python",
   "pygments_lexer": "ipython3",
   "version": "3.11.11"
  }
 },
 "nbformat": 4,
 "nbformat_minor": 2
}
