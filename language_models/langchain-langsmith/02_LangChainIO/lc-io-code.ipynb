{
 "cells": [
  {
   "cell_type": "markdown",
   "metadata": {},
   "source": [
    "### Text Completion vs Chat Completion"
   ]
  },
  {
   "cell_type": "code",
   "execution_count": 1,
   "metadata": {},
   "outputs": [
    {
     "data": {
      "text/plain": [
       "True"
      ]
     },
     "execution_count": 1,
     "metadata": {},
     "output_type": "execute_result"
    }
   ],
   "source": [
    "from dotenv import load_dotenv, find_dotenv\n",
    "\n",
    "load_dotenv(find_dotenv())"
   ]
  },
  {
   "cell_type": "markdown",
   "metadata": {},
   "source": [
    "### Text Completion models has been deprecated"
   ]
  },
  {
   "cell_type": "code",
   "execution_count": 2,
   "metadata": {},
   "outputs": [
    {
     "name": "stderr",
     "output_type": "stream",
     "text": [
      "/var/folders/d1/d31w101x0f31vstymvwz8kwr0000gn/T/ipykernel_31000/2810639211.py:4: LangChainDeprecationWarning: The method `BaseLLM.__call__` was deprecated in langchain-core 0.1.7 and will be removed in 1.0. Use :meth:`~invoke` instead.\n",
      "  llm(\"Tell me a joke\")\n"
     ]
    },
    {
     "data": {
      "text/plain": [
       "\"\\n\\nWhy couldn't the bicycle stand up by itself?\\n\\nBecause it was two-tired.\""
      ]
     },
     "execution_count": 2,
     "metadata": {},
     "output_type": "execute_result"
    }
   ],
   "source": [
    "from langchain_openai import OpenAI\n",
    "\n",
    "llm = OpenAI()\n",
    "llm(\"Tell me a joke\")"
   ]
  },
  {
   "cell_type": "code",
   "execution_count": 3,
   "metadata": {},
   "outputs": [
    {
     "data": {
      "text/plain": [
       "'\\n\\nWhy was the math book sad?\\n\\nBecause it had too many problems.'"
      ]
     },
     "execution_count": 3,
     "metadata": {},
     "output_type": "execute_result"
    }
   ],
   "source": [
    "llm(\"Tell me a joke\")"
   ]
  },
  {
   "cell_type": "code",
   "execution_count": 4,
   "metadata": {},
   "outputs": [
    {
     "data": {
      "text/plain": [
       "\"\\n\\nWhy couldn't the bicycle stand up by itself?\\n\\nBecause it was two-tired!\""
      ]
     },
     "execution_count": 4,
     "metadata": {},
     "output_type": "execute_result"
    }
   ],
   "source": [
    "llm.invoke(input=\"Tell me a joke\")"
   ]
  },
  {
   "cell_type": "markdown",
   "metadata": {},
   "source": [
    "Batch Processing - Make multiple requests at once"
   ]
  },
  {
   "cell_type": "code",
   "execution_count": 5,
   "metadata": {},
   "outputs": [
    {
     "name": "stdout",
     "output_type": "stream",
     "text": [
      "generations=[[Generation(text='\\n\\nWhy did the cow cross the road?\\nTo get to the udder side!', generation_info={'finish_reason': 'stop', 'logprobs': None})], [Generation(text='\\n\\nWhy did the parrot wear a raincoat?\\n\\nBecause he wanted to be polly-protected!', generation_info={'finish_reason': 'stop', 'logprobs': None})]] llm_output={'token_usage': {'completion_tokens': 39, 'prompt_tokens': 13, 'total_tokens': 52}, 'model_name': 'gpt-3.5-turbo-instruct'} run=[RunInfo(run_id=UUID('6b9808bb-9667-47b4-b895-5ab7bfb44851')), RunInfo(run_id=UUID('eaff1046-6795-41b8-9620-0d582e6b689e'))] type='LLMResult'\n"
     ]
    }
   ],
   "source": [
    "result = llm.generate([\"Tell me a joke about cows\", \"Tell me a joke about parrots\"])\n",
    "print(result)"
   ]
  },
  {
   "cell_type": "markdown",
   "metadata": {},
   "source": [
    "{\n",
    "  \"generations\": [\n",
    "    {\n",
    "      \"text\": \"\\n\\nWhy did the cow cross the road?\\n\\nTo get to the other side!\",\n",
    "      \"generation_info\": {\n",
    "        \"finish_reason\": \"stop\",\n",
    "        \"logprobs\": null\n",
    "      }\n",
    "    },\n",
    "    {\n",
    "      \"text\": \"\\n\\nWhy did the parrot wear a raincoat?\\n\\nBecause he wanted to be polly-proof!\",\n",
    "      \"generation_info\": {\n",
    "        \"finish_reason\": \"stop\",\n",
    "        \"logprobs\": null\n",
    "      }\n",
    "    }\n",
    "  ],\n",
    "  \"llm_output\": {\n",
    "    \"token_usage\": {\n",
    "      \"completion_tokens\": 38,\n",
    "      \"prompt_tokens\": 13,\n",
    "      \"total_tokens\": 51\n",
    "    },\n",
    "    \"model_name\": \"gpt-3.5-turbo-instruct\"\n",
    "  },\n",
    "  \"run\": [\n",
    "    {\n",
    "      \"run_id\": \"9c1c3f25-4b16-4231-9ad7-491b7992a13f\"\n",
    "    },\n",
    "    {\n",
    "      \"run_id\": \"396c42c9-ec90-48c8-aa28-2fe2fade98f3\"\n",
    "    }\n",
    "  ],\n",
    "  \"type\": \"LLMResult\"\n",
    "}"
   ]
  },
  {
   "cell_type": "code",
   "execution_count": 6,
   "metadata": {},
   "outputs": [
    {
     "data": {
      "text/plain": [
       "{'token_usage': {'completion_tokens': 39,\n",
       "  'prompt_tokens': 13,\n",
       "  'total_tokens': 52},\n",
       " 'model_name': 'gpt-3.5-turbo-instruct'}"
      ]
     },
     "execution_count": 6,
     "metadata": {},
     "output_type": "execute_result"
    }
   ],
   "source": [
    "result.llm_output"
   ]
  },
  {
   "cell_type": "markdown",
   "metadata": {},
   "source": [
    "### Creating a conversation with SystemMessage, AIMessage and SystemMessage"
   ]
  },
  {
   "cell_type": "code",
   "execution_count": 7,
   "metadata": {},
   "outputs": [],
   "source": [
    "from langchain_openai import ChatOpenAI\n",
    "\n",
    "llm = ChatOpenAI(model=\"gpt-4o-mini\")"
   ]
  },
  {
   "cell_type": "code",
   "execution_count": 8,
   "metadata": {},
   "outputs": [
    {
     "name": "stdout",
     "output_type": "stream",
     "text": [
      "content='Why do cows have hooves instead of feet?\\n\\nBecause they lactate! 🐄😄' additional_kwargs={'refusal': None} response_metadata={'token_usage': {'completion_tokens': 20, 'prompt_tokens': 13, 'total_tokens': 33, 'completion_tokens_details': {'accepted_prediction_tokens': 0, 'audio_tokens': 0, 'reasoning_tokens': 0, 'rejected_prediction_tokens': 0}, 'prompt_tokens_details': {'audio_tokens': 0, 'cached_tokens': 0}}, 'model_name': 'gpt-4o-mini-2024-07-18', 'system_fingerprint': 'fp_34a54ae93c', 'id': 'chatcmpl-Bbq07PXl7sNlxOSUiMTxbg2V4DB57', 'finish_reason': 'stop', 'logprobs': None} id='run-84163c61-81a8-4666-b094-309a4128c359-0' usage_metadata={'input_tokens': 13, 'output_tokens': 20, 'total_tokens': 33, 'input_token_details': {'audio': 0, 'cache_read': 0}, 'output_token_details': {'audio': 0, 'reasoning': 0}}\n"
     ]
    }
   ],
   "source": [
    "# predict to invoke --> Based on the changes introduced in langchain 0.2.0\n",
    "result = llm.invoke(\"Tell me a joke about cows\")\n",
    "print(result)"
   ]
  },
  {
   "cell_type": "code",
   "execution_count": 9,
   "metadata": {},
   "outputs": [],
   "source": [
    "from langchain.schema import SystemMessage, HumanMessage, AIMessage\n",
    "\n",
    "messages = [\n",
    "    SystemMessage(content=\"You are a helpful assistant specialized in providing information about BellaVista Italian Restaurant.\"),\n",
    "    HumanMessage(content=\"What's on the menu?\"),\n",
    "    AIMessage(content=\"BellaVista offers a variety of Italian dishes including pasta, pizza, and seafood.\"),\n",
    "    HumanMessage(content=\"Do you have vegan options?\")\n",
    "]"
   ]
  },
  {
   "cell_type": "code",
   "execution_count": 10,
   "metadata": {},
   "outputs": [
    {
     "data": {
      "text/plain": [
       "AIMessage(content=\"Yes, BellaVista Italian Restaurant typically offers vegan options. This may include dishes such as vegan pasta, salads, and vegetable-based pizzas. It's always a good idea to check the specific menu or ask the staff for the most up-to-date vegan offerings.\", additional_kwargs={'refusal': None}, response_metadata={'token_usage': {'completion_tokens': 50, 'prompt_tokens': 61, 'total_tokens': 111, 'completion_tokens_details': {'accepted_prediction_tokens': 0, 'audio_tokens': 0, 'reasoning_tokens': 0, 'rejected_prediction_tokens': 0}, 'prompt_tokens_details': {'audio_tokens': 0, 'cached_tokens': 0}}, 'model_name': 'gpt-4o-mini-2024-07-18', 'system_fingerprint': 'fp_34a54ae93c', 'id': 'chatcmpl-Bbq07g7DqAcK19t0Fqa9MovthGXiQ', 'finish_reason': 'stop', 'logprobs': None}, id='run-d9790c94-1533-4555-907d-15d8b7cbdeb6-0', usage_metadata={'input_tokens': 61, 'output_tokens': 50, 'total_tokens': 111, 'input_token_details': {'audio': 0, 'cache_read': 0}, 'output_token_details': {'audio': 0, 'reasoning': 0}})"
      ]
     },
     "execution_count": 10,
     "metadata": {},
     "output_type": "execute_result"
    }
   ],
   "source": [
    "llm_result = llm.invoke(input=messages)\n",
    "llm_result"
   ]
  },
  {
   "cell_type": "markdown",
   "metadata": {},
   "source": [
    "Batch Processing for Chat Models - Make multiple requests at once"
   ]
  },
  {
   "cell_type": "code",
   "execution_count": 11,
   "metadata": {},
   "outputs": [
    {
     "data": {
      "text/plain": [
       "LLMResult(generations=[[ChatGeneration(text='உங்களுக்கு வெற்றிக்கரமான உணவுகள் உள்ளனவா?', generation_info={'finish_reason': 'stop', 'logprobs': None}, message=AIMessage(content='உங்களுக்கு வெற்றிக்கரமான உணவுகள் உள்ளனவா?', additional_kwargs={'refusal': None}, response_metadata={'token_usage': {'completion_tokens': 15, 'prompt_tokens': 27, 'total_tokens': 42, 'completion_tokens_details': {'accepted_prediction_tokens': 0, 'audio_tokens': 0, 'reasoning_tokens': 0, 'rejected_prediction_tokens': 0}, 'prompt_tokens_details': {'audio_tokens': 0, 'cached_tokens': 0}}, 'model_name': 'gpt-4o-mini-2024-07-18', 'system_fingerprint': 'fp_54eb4bd693', 'id': 'chatcmpl-Bbq095b4TYRWYA3Vikt5Blushk5ue', 'finish_reason': 'stop', 'logprobs': None}, id='run-9efce472-e16d-4268-a314-fd0c6fa2f37b-0', usage_metadata={'input_tokens': 27, 'output_tokens': 15, 'total_tokens': 42, 'input_token_details': {'audio': 0, 'cache_read': 0}, 'output_token_details': {'audio': 0, 'reasoning': 0}}))], [ChatGeneration(text='क्या आपके पास शाकाहारी विकल्प हैं?', generation_info={'finish_reason': 'stop', 'logprobs': None}, message=AIMessage(content='क्या आपके पास शाकाहारी विकल्प हैं?', additional_kwargs={'refusal': None}, response_metadata={'token_usage': {'completion_tokens': 10, 'prompt_tokens': 29, 'total_tokens': 39, 'completion_tokens_details': {'accepted_prediction_tokens': 0, 'audio_tokens': 0, 'reasoning_tokens': 0, 'rejected_prediction_tokens': 0}, 'prompt_tokens_details': {'audio_tokens': 0, 'cached_tokens': 0}}, 'model_name': 'gpt-4o-mini-2024-07-18', 'system_fingerprint': 'fp_34a54ae93c', 'id': 'chatcmpl-Bbq0A1G08JKX1ASRoxje33VDeKOSW', 'finish_reason': 'stop', 'logprobs': None}, id='run-e2e8cefd-5a6e-49fe-aac8-86aa0ee43b83-0', usage_metadata={'input_tokens': 29, 'output_tokens': 10, 'total_tokens': 39, 'input_token_details': {'audio': 0, 'cache_read': 0}, 'output_token_details': {'audio': 0, 'reasoning': 0}}))]], llm_output={'token_usage': {'completion_tokens': 25, 'prompt_tokens': 56, 'total_tokens': 81, 'completion_tokens_details': {'accepted_prediction_tokens': 0, 'audio_tokens': 0, 'reasoning_tokens': 0, 'rejected_prediction_tokens': 0}, 'prompt_tokens_details': {'audio_tokens': 0, 'cached_tokens': 0}}, 'model_name': 'gpt-4o-mini', 'system_fingerprint': 'fp_54eb4bd693'}, run=[RunInfo(run_id=UUID('9efce472-e16d-4268-a314-fd0c6fa2f37b')), RunInfo(run_id=UUID('e2e8cefd-5a6e-49fe-aac8-86aa0ee43b83'))], type='LLMResult')"
      ]
     },
     "execution_count": 11,
     "metadata": {},
     "output_type": "execute_result"
    }
   ],
   "source": [
    "batch_messages = [\n",
    "    [\n",
    "        SystemMessage(content=\"You are a helpful assistant that translates English to Tamil\"),\n",
    "        HumanMessage(content=\"Do you have vegan options?\")\n",
    "    ],\n",
    "    [\n",
    "        SystemMessage(content=\"You are a helpful assistant that translates the English to Hindi.\"),\n",
    "        HumanMessage(content=\"Do you have vegan options?\")\n",
    "    ],\n",
    "]\n",
    "batch_result = llm.generate(batch_messages)\n",
    "batch_result"
   ]
  },
  {
   "cell_type": "code",
   "execution_count": 12,
   "metadata": {},
   "outputs": [
    {
     "name": "stdout",
     "output_type": "stream",
     "text": [
      "<class 'langchain_core.outputs.llm_result.LLMResult'>\n"
     ]
    }
   ],
   "source": [
    "print(type(batch_result))"
   ]
  },
  {
   "cell_type": "markdown",
   "metadata": {},
   "source": [
    "Extracting the output ourself (we will later take a look at Output-Parsers!)"
   ]
  },
  {
   "cell_type": "markdown",
   "metadata": {},
   "source": [
    "1. LLMResult is the top-level object that contains a list of generations.\n",
    "2. Each of those elements is itself a list of Generation (or ChatGeneration) objects.\n",
    "3. The code expects batch_result to be an LLMResult object that has a .generations attribute (which is a list of lists of Generation objects)."
   ]
  },
  {
   "cell_type": "code",
   "execution_count": 13,
   "metadata": {},
   "outputs": [
    {
     "data": {
      "text/plain": [
       "\"\\nbatch_result = LLMResult(\\n    generations=[\\n        # First input's generations\\n        [ChatGeneration(text='Haben Sie vegane Optionen?', ...)], # This is generation[0] for the first batch item\\n        # Second input's generations\\n        [ChatGeneration(text='¿Tienen opciones veganas?', ...)]  # This is generation[0] for the second batch item\\n    ],\\n    # ... other LLMResult attributes\\n)\\n\""
      ]
     },
     "execution_count": 13,
     "metadata": {},
     "output_type": "execute_result"
    }
   ],
   "source": [
    "\"\"\"\n",
    "batch_result = LLMResult(\n",
    "    generations=[\n",
    "        # First input's generations\n",
    "        [ChatGeneration(text='Haben Sie vegane Optionen?', ...)], # This is generation[0] for the first batch item\n",
    "        # Second input's generations\n",
    "        [ChatGeneration(text='¿Tienen opciones veganas?', ...)]  # This is generation[0] for the second batch item\n",
    "    ],\n",
    "    # ... other LLMResult attributes\n",
    ")\n",
    "\"\"\""
   ]
  },
  {
   "cell_type": "code",
   "execution_count": 14,
   "metadata": {},
   "outputs": [
    {
     "data": {
      "text/plain": [
       "['உங்களுக்கு வெற்றிக்கரமான உணவுகள் உள்ளனவா?',\n",
       " 'क्या आपके पास शाकाहारी विकल्प हैं?']"
      ]
     },
     "execution_count": 14,
     "metadata": {},
     "output_type": "execute_result"
    }
   ],
   "source": [
    "translations = [gen_text[0].text for gen_text in batch_result.generations]\n",
    "translations"
   ]
  }
 ],
 "metadata": {
  "kernelspec": {
   "display_name": "i2dl",
   "language": "python",
   "name": "python3"
  },
  "language_info": {
   "codemirror_mode": {
    "name": "ipython",
    "version": 3
   },
   "file_extension": ".py",
   "mimetype": "text/x-python",
   "name": "python",
   "nbconvert_exporter": "python",
   "pygments_lexer": "ipython3",
   "version": "3.11.11"
  }
 },
 "nbformat": 4,
 "nbformat_minor": 2
}
