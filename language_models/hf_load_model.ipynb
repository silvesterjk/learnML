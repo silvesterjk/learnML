{
 "cells": [
  {
   "cell_type": "code",
   "execution_count": 1,
   "metadata": {},
   "outputs": [],
   "source": [
    "# Warning control\n",
    "import warnings\n",
    "warnings.filterwarnings('ignore')"
   ]
  },
  {
   "cell_type": "code",
   "execution_count": 2,
   "metadata": {},
   "outputs": [],
   "source": [
    "# import the required classes\n",
    "from transformers import AutoModelForCausalLM, AutoTokenizer, pipeline"
   ]
  },
  {
   "cell_type": "code",
   "execution_count": null,
   "metadata": {},
   "outputs": [],
   "source": [
    "# Load model and tokenizer\n",
    "tokenizer = AutoTokenizer.from_pretrained(\"../models/microsoft/Phi-3-mini-4k-instruct\")\n",
    "\n",
    "model = AutoModelForCausalLM.from_pretrained(\n",
    "    \"../models/microsoft/Phi-3-mini-4k-instruct\",\n",
    "    device_map=\"cpu\",\n",
    "    torch_dtype=\"auto\",\n",
    "    trust_remote_code=True,\n",
    ")"
   ]
  },
  {
   "cell_type": "code",
   "execution_count": null,
   "metadata": {},
   "outputs": [],
   "source": [
    "# Create a pipeline\n",
    "generator = pipeline(\n",
    "    \"text-generation\",\n",
    "    model=model,\n",
    "    tokenizer=tokenizer,\n",
    "    return_full_text=False, # False means to not include the prompt text in the returned text\n",
    "    max_new_tokens=50, \n",
    "    do_sample=False, # no randomness in the generated text\n",
    ")"
   ]
  },
  {
   "cell_type": "code",
   "execution_count": null,
   "metadata": {},
   "outputs": [
    {
     "data": {
      "text/plain": [
       "'\\nPhi3ForCausalLM(\\n  (model): Phi3Model(\\n    (embed_tokens): Embedding(32064, 3072, padding_idx=32000)\\n    (embed_dropout): Dropout(p=0.0, inplace=False)\\n    (layers): ModuleList(\\n      (0-31): 32 x Phi3DecoderLayer(\\n        (self_attn): Phi3Attention(\\n          (o_proj): Linear(in_features=3072, out_features=3072, bias=False)\\n          (qkv_proj): Linear(in_features=3072, out_features=9216, bias=False)\\n          (rotary_emb): Phi3RotaryEmbedding()\\n        )\\n        (mlp): Phi3MLP(\\n          (gate_up_proj): Linear(in_features=3072, out_features=16384, bias=False)\\n          (down_proj): Linear(in_features=8192, out_features=3072, bias=False)\\n          (activation_fn): SiLU()\\n        )\\n        (input_layernorm): Phi3RMSNorm()\\n        (resid_attn_dropout): Dropout(p=0.0, inplace=False)\\n        (resid_mlp_dropout): Dropout(p=0.0, inplace=False)\\n        (post_attention_layernorm): Phi3RMSNorm()\\n      )\\n    )\\n    (norm): Phi3RMSNorm()\\n  )\\n  (lm_head): Linear(in_features=3072, out_features=32064, bias=False)\\n)\\n'"
      ]
     },
     "execution_count": 7,
     "metadata": {},
     "output_type": "execute_result"
    }
   ],
   "source": [
    "model\n",
    "\n",
    "\"\"\"\n",
    "Phi3ForCausalLM(\n",
    "  (model): Phi3Model(\n",
    "    (embed_tokens): Embedding(32064, 3072, padding_idx=32000)\n",
    "    (embed_dropout): Dropout(p=0.0, inplace=False)\n",
    "    (layers): ModuleList(\n",
    "      (0-31): 32 x Phi3DecoderLayer(\n",
    "        (self_attn): Phi3Attention(\n",
    "          (o_proj): Linear(in_features=3072, out_features=3072, bias=False)\n",
    "          (qkv_proj): Linear(in_features=3072, out_features=9216, bias=False)\n",
    "          (rotary_emb): Phi3RotaryEmbedding()\n",
    "        )\n",
    "        (mlp): Phi3MLP(\n",
    "          (gate_up_proj): Linear(in_features=3072, out_features=16384, bias=False)\n",
    "          (down_proj): Linear(in_features=8192, out_features=3072, bias=False)\n",
    "          (activation_fn): SiLU()\n",
    "        )\n",
    "        (input_layernorm): Phi3RMSNorm()\n",
    "        (resid_attn_dropout): Dropout(p=0.0, inplace=False)\n",
    "        (resid_mlp_dropout): Dropout(p=0.0, inplace=False)\n",
    "        (post_attention_layernorm): Phi3RMSNorm()\n",
    "      )\n",
    "    )\n",
    "    (norm): Phi3RMSNorm()\n",
    "  )\n",
    "  (lm_head): Linear(in_features=3072, out_features=32064, bias=False)\n",
    ")\n",
    "\"\"\""
   ]
  },
  {
   "cell_type": "code",
   "execution_count": 5,
   "metadata": {},
   "outputs": [
    {
     "ename": "NameError",
     "evalue": "name 'model' is not defined",
     "output_type": "error",
     "traceback": [
      "\u001b[0;31m---------------------------------------------------------------------------\u001b[0m",
      "\u001b[0;31mNameError\u001b[0m                                 Traceback (most recent call last)",
      "Cell \u001b[0;32mIn[5], line 1\u001b[0m\n\u001b[0;32m----> 1\u001b[0m model\u001b[38;5;241m.\u001b[39mmodel\u001b[38;5;241m.\u001b[39membed_tokens\n",
      "\u001b[0;31mNameError\u001b[0m: name 'model' is not defined"
     ]
    }
   ],
   "source": [
    "model.model.embed_tokens"
   ]
  },
  {
   "cell_type": "code",
   "execution_count": null,
   "metadata": {},
   "outputs": [],
   "source": [
    "model.model"
   ]
  },
  {
   "cell_type": "code",
   "execution_count": null,
   "metadata": {},
   "outputs": [],
   "source": [
    "model.model.layers[0]"
   ]
  },
  {
   "cell_type": "code",
   "execution_count": null,
   "metadata": {},
   "outputs": [],
   "source": []
  },
  {
   "cell_type": "code",
   "execution_count": null,
   "metadata": {},
   "outputs": [],
   "source": []
  },
  {
   "cell_type": "code",
   "execution_count": null,
   "metadata": {},
   "outputs": [],
   "source": []
  },
  {
   "cell_type": "code",
   "execution_count": null,
   "metadata": {},
   "outputs": [],
   "source": []
  }
 ],
 "metadata": {
  "kernelspec": {
   "display_name": "myenv",
   "language": "python",
   "name": "python3"
  },
  "language_info": {
   "codemirror_mode": {
    "name": "ipython",
    "version": 3
   },
   "file_extension": ".py",
   "mimetype": "text/x-python",
   "name": "python",
   "nbconvert_exporter": "python",
   "pygments_lexer": "ipython3",
   "version": "3.12.9"
  }
 },
 "nbformat": 4,
 "nbformat_minor": 2
}
